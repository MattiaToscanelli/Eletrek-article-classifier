{
 "cells": [
  {
   "attachments": {},
   "cell_type": "markdown",
   "metadata": {},
   "source": [
    "# Scraping of Articles from Eletrek\n",
    "* Of the catogories: Ebikes and Hyperloop"
   ]
  },
  {
   "cell_type": "code",
   "execution_count": 25,
   "metadata": {
    "pycharm": {
     "is_executing": true
    }
   },
   "outputs": [],
   "source": [
    "# Scraping of Articles from Eletrek\n",
    "## Of the catogories: Ebikes and Hyperloop"
   ]
  },
  {
   "cell_type": "code",
   "execution_count": 26,
   "metadata": {
    "pycharm": {
     "is_executing": true
    }
   },
   "outputs": [],
   "source": [
    "from bs4 import BeautifulSoup\n",
    "import urllib.request,sys,time\n",
    "import requests\n",
    "import pandas as pd\n"
   ]
  },
  {
   "cell_type": "code",
   "execution_count": 27,
   "metadata": {},
   "outputs": [],
   "source": [
    "def get_links(url):\n",
    "    links = []\n",
    "\n",
    "    # Get the page\n",
    "    page = requests.get(url)\n",
    "\n",
    "    # Parse the HTML\n",
    "    soup = BeautifulSoup(page.text, \"html.parser\")\n",
    "\n",
    "    # Get all the a tags\n",
    "    links = soup.find_all('a',attrs={'class':'article__title-link'})\n",
    "\n",
    "    # Get the links from the a tags\n",
    "    links = [link.get('href') for link in links]\n",
    "    \n",
    "    # Filter links that conatains only electrek.co\n",
    "    links = [link for link in links if 'electrek.co' in link]\n",
    "\n",
    "    #print links one under the other to check if the links are extracted correctly\n",
    "    for link in links:\n",
    "        print(link)\n",
    "\n",
    "    return links"
   ]
  },
  {
   "cell_type": "code",
   "execution_count": 28,
   "metadata": {},
   "outputs": [
    {
     "name": "stdout",
     "output_type": "stream",
     "text": [
      "https://electrek.co/2023/03/15/juiced-drops-prices-powerful-hyperscorpion-e-bikes/\n",
      "https://electrek.co/2023/03/14/hovsco-launches-new-fat-tire-e-bikes-hovwagon-hovscout/\n",
      "https://electrek.co/2023/03/13/engwe-m20-launched-as-low-cost-dual-suspension-electric-moped/\n",
      "https://electrek.co/2023/03/13/why-fox-news-wants-you-to-be-afraid-of-electric-bikes/\n",
      "https://electrek.co/2023/03/12/believe-it-or-not-the-amish-are-loving-electric-bikes/\n",
      "https://electrek.co/2023/03/09/super73s-c1x-electric-motorcycle-expected-out-this-year/\n",
      "https://electrek.co/2023/03/07/electric-bicycle-bafang-expands-into-electric-motorcycles/\n",
      "https://electrek.co/2023/03/07/nyc-banning-electric-bikes-without-ul-batteries-fires/\n",
      "https://electrek.co/2023/03/06/mokwheel-scoria-review-electric-bike/\n",
      "https://electrek.co/2023/03/05/here-are-the-best-electric-bikes-you-can-buy-at-every-price-level/\n",
      "https://electrek.co/2023/03/02/ride1up-revv1-fs-review-electric-bike-moped/\n",
      "https://electrek.co/2023/03/01/radrunner-3-plus-unveiled-from-rad-power-bikes/\n",
      "https://electrek.co/2023/02/23/ride1up-turris-electric-touring-bike-review/\n",
      "https://electrek.co/2023/02/22/radical-new-ride-by-wire-electric-bike-drivetrain-free-drive-schaeffler/\n",
      "https://electrek.co/2023/02/20/dirt-jumping-electric-bike-onyx-lzr-pro/\n",
      "https://electrek.co/2023/02/17/trek-fetch-plus-2-electric-bike-cargo/\n",
      "https://electrek.co/2023/02/16/addmotor-m340-review-fat-tire-electric-trike/\n",
      "https://electrek.co/2023/02/14/evelo-dash-review-belt-drive-folding-e-bike-with-class-2/\n",
      "https://electrek.co/2023/02/14/emporsche-goes-full-electric-bike-greyp/\n",
      "https://electrek.co/2023/02/13/review-e-cells-super-monarch-awd-1500-dual-crown-electric-bike/\n",
      "https://electrek.co/2023/02/11/sondors-slashes-ipo-price/\n",
      "https://electrek.co/2023/02/10/fw11-30-mph-folding-e-bike/\n",
      "https://electrek.co/2023/02/09/lectric-xp-trike-first-ride-testing-low-cost-electric-trike/\n",
      "https://electrek.co/2023/02/08/eunorau-meta275-e-bike-review-torque-sensor/\n"
     ]
    }
   ],
   "source": [
    "links = get_links('https://electrek.co/guides/ebikes/')"
   ]
  },
  {
   "cell_type": "code",
   "execution_count": 29,
   "metadata": {},
   "outputs": [],
   "source": [
    "def parse_article_content(soup):\n",
    "\n",
    "    # get only the main content of the article\n",
    "    div_content = soup.find('div', {'class': 'container med'})\n",
    "    paragraphs = div_content.find_all('p')\n",
    "\n",
    "    # remove the last paragraph which ia an information about the site\n",
    "    paragraphs.pop()\n",
    "\n",
    "    content = ''\n",
    "    for p in paragraphs:\n",
    "        content += p.text + '\\n'\n",
    "\n",
    "    return content"
   ]
  },
  {
   "cell_type": "code",
   "execution_count": 30,
   "metadata": {},
   "outputs": [
    {
     "name": "stdout",
     "output_type": "stream",
     "text": [
      "After a costly and time-consuming legal battle to secure the trademarks for its most powerful HyperScorpion and HyperScrambler 2 e-bikes, Juiced Bikes has decided to discontinue the current model lines. As part of that closeout, the company has put its existing inventory on closeout sale.\n",
      "Juiced Bikes is one of the oldest and most established electric bicycle brands in the US.\n",
      "I remember scrolling through their site in college back in 2011, and by then the company had already been in operation for a few years. So if like me, you remember the OG Juiced even back before the company’s name change, then you’ll know that Juiced has never just followed trends; it sets them.\n",
      "That was the case with Juiced Scorpion e-bike launched in The Before Times back in 2019, and it was the case with the high-power, 28+ mph HyperScorpion and HyperScrambler 2 e-bikes that followed.\n",
      "But after a protracted legal battle to secure the trademark for those e-bikes, Juiced has decided to close out those lines. In doing so it has dropped prices on its remaining bikes.\n",
      "As the company explained further:\n",
      "Juiced Bikes has been working diligently for several years to secure legal protection for the HyperScorpion and HyperScrambler brand names. Those efforts have been costly, time-consuming and still haven’t provided the level of trademark protection we have achieved with the other models in our portfolio. As a result, we are now phasing out both the HyperScorpion and HyperScrambler models. This decision is in no way reflective of the quality or performance of these e-bikes. On the contrary, we believe so much in the performance and value of these products that we refuse to burden them with any additional legal and/or licensing fees.\n",
      "The good news is that while the HyperScorpion and HyperScrambler may be ending, the bikes themselves will be reborn.\n",
      "Juiced has promised to bring the models back under new badging.\n",
      "“Both the HyperScorpion and HyperScrambler 2 will be renamed and relaunched before the end of 2023. In the meantime, we hope our current and future customers can take advantage of current close-out pricing and enjoy the incredible power, performance and safety features of these two exceptional e-bikes.”\n",
      "Those new prices, which can be found on Juiced’s closeout deals page, are as follows:\n",
      "Close-Out pricing:\n",
      "These are fast and high-power electric bikes that have a build quality closer in line with mopeds and light electric motorcycles.\n",
      "We’ve tested these models ourselves, which you can see in the video below, and have fallen in love with the power and performance that Juiced has been able to stuff into an electric bike-size package.\n",
      "And who knows, perhaps with the closeout of these models and the upcoming name change, the remaining models will become collector’s items. If there was any doubt about that case for the limited-edition Founder’s Series HyperScrambler 2, then this closeout should settle that.\n",
      "\n"
     ]
    }
   ],
   "source": [
    "response = requests.get(links[0])\n",
    "soup = BeautifulSoup(response.content, 'html.parser')\n",
    "\n",
    "content = parse_article_content(soup)\n",
    "print(content)"
   ]
  },
  {
   "cell_type": "code",
   "execution_count": 31,
   "metadata": {},
   "outputs": [],
   "source": [
    "# parse in string the date from the link of the article\n",
    "# the link is in the format: https://electrek.co/2019/01/01/article-title/\n",
    "# the date is in the format: 2019/01/01\n",
    "def parse_date(link):\n",
    "    splitted_link = link.split('/')\n",
    "    date = splitted_link[3] + '/' + splitted_link[4]  + '/' + splitted_link[5]\n",
    "    return date"
   ]
  },
  {
   "cell_type": "code",
   "execution_count": 32,
   "metadata": {},
   "outputs": [
    {
     "name": "stdout",
     "output_type": "stream",
     "text": [
      "2023/03/15\n"
     ]
    }
   ],
   "source": [
    "responce = requests.get(links[0])\n",
    "soup = BeautifulSoup(responce.content, 'html.parser')\n",
    "\n",
    "date = parse_date(links[0])\n",
    "print(date)"
   ]
  },
  {
   "cell_type": "code",
   "execution_count": 33,
   "metadata": {},
   "outputs": [
    {
     "name": "stdout",
     "output_type": "stream",
     "text": [
      "24\n"
     ]
    },
    {
     "data": {
      "text/html": [
       "<div>\n",
       "<style scoped>\n",
       "    .dataframe tbody tr th:only-of-type {\n",
       "        vertical-align: middle;\n",
       "    }\n",
       "\n",
       "    .dataframe tbody tr th {\n",
       "        vertical-align: top;\n",
       "    }\n",
       "\n",
       "    .dataframe thead th {\n",
       "        text-align: right;\n",
       "    }\n",
       "</style>\n",
       "<table border=\"1\" class=\"dataframe\">\n",
       "  <thead>\n",
       "    <tr style=\"text-align: right;\">\n",
       "      <th></th>\n",
       "      <th>date</th>\n",
       "      <th>content</th>\n",
       "    </tr>\n",
       "  </thead>\n",
       "  <tbody>\n",
       "    <tr>\n",
       "      <th>0</th>\n",
       "      <td>2023/03/15</td>\n",
       "      <td>After a costly and time-consuming legal battle...</td>\n",
       "    </tr>\n",
       "    <tr>\n",
       "      <th>1</th>\n",
       "      <td>2023/03/14</td>\n",
       "      <td>Not familiar with HOVSCO? Eh, it’s not really ...</td>\n",
       "    </tr>\n",
       "    <tr>\n",
       "      <th>2</th>\n",
       "      <td>2023/03/13</td>\n",
       "      <td>The electric bicycle company Engwe has just la...</td>\n",
       "    </tr>\n",
       "    <tr>\n",
       "      <th>3</th>\n",
       "      <td>2023/03/13</td>\n",
       "      <td>Fox News is no stranger to the tactic of fearm...</td>\n",
       "    </tr>\n",
       "    <tr>\n",
       "      <th>4</th>\n",
       "      <td>2023/03/12</td>\n",
       "      <td>Electric bicycles have been finding favor in a...</td>\n",
       "    </tr>\n",
       "    <tr>\n",
       "      <th>5</th>\n",
       "      <td>2023/03/09</td>\n",
       "      <td>The SUPER73 C1X has become a hotly anticipated...</td>\n",
       "    </tr>\n",
       "    <tr>\n",
       "      <th>6</th>\n",
       "      <td>2023/03/07</td>\n",
       "      <td>Bafang is best known for its electric motors, ...</td>\n",
       "    </tr>\n",
       "    <tr>\n",
       "      <th>7</th>\n",
       "      <td>2023/03/07</td>\n",
       "      <td>A new law already passed by the New York City ...</td>\n",
       "    </tr>\n",
       "    <tr>\n",
       "      <th>8</th>\n",
       "      <td>2023/03/06</td>\n",
       "      <td>If there’s two cool pieces of green technology...</td>\n",
       "    </tr>\n",
       "    <tr>\n",
       "      <th>9</th>\n",
       "      <td>2023/03/05</td>\n",
       "      <td>Here at Electrek we have spent countless hours...</td>\n",
       "    </tr>\n",
       "    <tr>\n",
       "      <th>10</th>\n",
       "      <td>2023/03/02</td>\n",
       "      <td>The Ride1Up REVV1 FS is a rare breed of e-bike...</td>\n",
       "    </tr>\n",
       "    <tr>\n",
       "      <th>11</th>\n",
       "      <td>2023/03/01</td>\n",
       "      <td>Rad Power Bikes is back with a new version of ...</td>\n",
       "    </tr>\n",
       "    <tr>\n",
       "      <th>12</th>\n",
       "      <td>2023/02/23</td>\n",
       "      <td>San Diego-based electric bicycle company Ride1...</td>\n",
       "    </tr>\n",
       "    <tr>\n",
       "      <th>13</th>\n",
       "      <td>2023/02/22</td>\n",
       "      <td>A year and a half ago, we broke the news about...</td>\n",
       "    </tr>\n",
       "    <tr>\n",
       "      <th>14</th>\n",
       "      <td>2023/02/20</td>\n",
       "      <td>Electric dirt jumpers are a niche within a nic...</td>\n",
       "    </tr>\n",
       "    <tr>\n",
       "      <th>15</th>\n",
       "      <td>2023/02/17</td>\n",
       "      <td>Wisconsin-based bicycle maker Trek has just la...</td>\n",
       "    </tr>\n",
       "    <tr>\n",
       "      <th>16</th>\n",
       "      <td>2023/02/16</td>\n",
       "      <td>Electric trikes are a quickly growing segment ...</td>\n",
       "    </tr>\n",
       "    <tr>\n",
       "      <th>17</th>\n",
       "      <td>2023/02/14</td>\n",
       "      <td>The Evelo Dash manages to stand out in an ever...</td>\n",
       "    </tr>\n",
       "    <tr>\n",
       "      <th>18</th>\n",
       "      <td>2023/02/14</td>\n",
       "      <td>When it comes to electric bikes, many automake...</td>\n",
       "    </tr>\n",
       "    <tr>\n",
       "      <th>19</th>\n",
       "      <td>2023/02/13</td>\n",
       "      <td>I call this e-bike “overpowered,” but I should...</td>\n",
       "    </tr>\n",
       "    <tr>\n",
       "      <th>20</th>\n",
       "      <td>2023/02/11</td>\n",
       "      <td>When we first reported that the Southern Calif...</td>\n",
       "    </tr>\n",
       "    <tr>\n",
       "      <th>21</th>\n",
       "      <td>2023/02/10</td>\n",
       "      <td>The new FW11 electric bike has a lot going for...</td>\n",
       "    </tr>\n",
       "    <tr>\n",
       "      <th>22</th>\n",
       "      <td>2023/02/09</td>\n",
       "      <td>Lectric eBikes is know for two things – making...</td>\n",
       "    </tr>\n",
       "    <tr>\n",
       "      <th>23</th>\n",
       "      <td>2023/02/08</td>\n",
       "      <td>We’ve seen several Eunorau electric bikes arou...</td>\n",
       "    </tr>\n",
       "  </tbody>\n",
       "</table>\n",
       "</div>"
      ],
      "text/plain": [
       "          date                                            content\n",
       "0   2023/03/15  After a costly and time-consuming legal battle...\n",
       "1   2023/03/14  Not familiar with HOVSCO? Eh, it’s not really ...\n",
       "2   2023/03/13  The electric bicycle company Engwe has just la...\n",
       "3   2023/03/13  Fox News is no stranger to the tactic of fearm...\n",
       "4   2023/03/12  Electric bicycles have been finding favor in a...\n",
       "5   2023/03/09  The SUPER73 C1X has become a hotly anticipated...\n",
       "6   2023/03/07  Bafang is best known for its electric motors, ...\n",
       "7   2023/03/07  A new law already passed by the New York City ...\n",
       "8   2023/03/06  If there’s two cool pieces of green technology...\n",
       "9   2023/03/05  Here at Electrek we have spent countless hours...\n",
       "10  2023/03/02  The Ride1Up REVV1 FS is a rare breed of e-bike...\n",
       "11  2023/03/01  Rad Power Bikes is back with a new version of ...\n",
       "12  2023/02/23  San Diego-based electric bicycle company Ride1...\n",
       "13  2023/02/22  A year and a half ago, we broke the news about...\n",
       "14  2023/02/20  Electric dirt jumpers are a niche within a nic...\n",
       "15  2023/02/17  Wisconsin-based bicycle maker Trek has just la...\n",
       "16  2023/02/16  Electric trikes are a quickly growing segment ...\n",
       "17  2023/02/14  The Evelo Dash manages to stand out in an ever...\n",
       "18  2023/02/14  When it comes to electric bikes, many automake...\n",
       "19  2023/02/13  I call this e-bike “overpowered,” but I should...\n",
       "20  2023/02/11  When we first reported that the Southern Calif...\n",
       "21  2023/02/10  The new FW11 electric bike has a lot going for...\n",
       "22  2023/02/09  Lectric eBikes is know for two things – making...\n",
       "23  2023/02/08  We’ve seen several Eunorau electric bikes arou..."
      ]
     },
     "execution_count": 33,
     "metadata": {},
     "output_type": "execute_result"
    }
   ],
   "source": [
    "#append all content to the dataframe with concat\n",
    "def getDfFromCategory(category):\n",
    "\n",
    "    # Create a dataframe to store the data\n",
    "    df = pd.DataFrame(columns=['date','content'])\n",
    "\n",
    "    for i in range(1, 44):\n",
    "    \n",
    "        links = get_links('https://electrek.co/guides/' + category + '/page/' + str(i) + '/')\n",
    "        for link in links:\n",
    "            #get the html page\n",
    "            response = requests.get(link)\n",
    "            soup = BeautifulSoup(response.content, 'html.parser')\n",
    "\n",
    "            content = parse_article_content(soup)\n",
    "            parsedDate = parse_date(link)\n",
    "\n",
    "            #create a dataframe with the content and the date\n",
    "            df = pd.concat([df, pd.DataFrame({'date': [parsedDate], 'content': [content]})], ignore_index=True)\n",
    "        \n",
    "        print('Page ' + str(i) + ' done')\n",
    "        \n",
    "    return df\n",
    "\n",
    "# print the length of the dataframe\n",
    "print(len(df))\n",
    "df\n"
   ]
  },
  {
   "cell_type": "code",
   "execution_count": 34,
   "metadata": {},
   "outputs": [],
   "source": [
    "# save the dataset in a csv file\n",
    "df.to_csv('ebikes.csv', index=False)"
   ]
  }
 ],
 "metadata": {
  "kernelspec": {
   "display_name": "Python 3",
   "language": "python",
   "name": "python3"
  },
  "language_info": {
   "codemirror_mode": {
    "name": "ipython",
    "version": 3
   },
   "file_extension": ".py",
   "mimetype": "text/x-python",
   "name": "python",
   "nbconvert_exporter": "python",
   "pygments_lexer": "ipython3",
   "version": "3.10.6"
  },
  "orig_nbformat": 4
 },
 "nbformat": 4,
 "nbformat_minor": 2
}
