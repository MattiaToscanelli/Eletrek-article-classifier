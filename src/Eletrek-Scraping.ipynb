{
 "cells": [
  {
   "attachments": {},
   "cell_type": "markdown",
   "metadata": {},
   "source": [
    "# Scraping of Articles from Eletrek\n",
    "* Of the catogories: Ebikes and Hyperloop"
   ]
  },
  {
   "cell_type": "code",
   "execution_count": 1,
   "metadata": {
    "pycharm": {
     "is_executing": true
    }
   },
   "outputs": [],
   "source": [
    "# Scraping of Articles from Eletrek\n",
    "## Of the catogories: Tesla, Ebikes and Green Energy Technologies"
   ]
  },
  {
   "cell_type": "code",
   "execution_count": 2,
   "metadata": {
    "pycharm": {
     "is_executing": true
    }
   },
   "outputs": [],
   "source": [
    "from bs4 import BeautifulSoup\n",
    "import urllib.request,sys,time\n",
    "import requests\n",
    "import pandas as pd"
   ]
  },
  {
   "cell_type": "code",
   "execution_count": 3,
   "metadata": {},
   "outputs": [],
   "source": [
    "def get_links(url):\n",
    "    links = []\n",
    "\n",
    "    # Get the page\n",
    "    page = requests.get(url)\n",
    "\n",
    "    # Parse the HTML\n",
    "    soup = BeautifulSoup(page.text, \"html.parser\")\n",
    "\n",
    "    # Get all the a tags\n",
    "    links = soup.find_all('a',attrs={'class':'article__title-link'})\n",
    "\n",
    "    # Get the links from the a tags\n",
    "    links = [link.get('href') for link in links]\n",
    "    \n",
    "    # Filter links that conatains only electrek.co\n",
    "    links = [link for link in links if 'electrek.co' in link]\n",
    "\n",
    "    return links"
   ]
  },
  {
   "cell_type": "code",
   "execution_count": 4,
   "metadata": {},
   "outputs": [],
   "source": [
    "links = get_links('https://electrek.co/guides/ebikes/')"
   ]
  },
  {
   "cell_type": "code",
   "execution_count": 5,
   "metadata": {},
   "outputs": [],
   "source": [
    "def parse_article_content(soup):\n",
    "\n",
    "    # get only the main content of the article\n",
    "    div_content = soup.find('div', {'class': 'post-content'})\n",
    "    paragraphs = div_content.find_all('p')\n",
    "\n",
    "    # remove the last paragraph which ia an information about the site\n",
    "    paragraphs.pop()\n",
    "\n",
    "    content = ''\n",
    "    for p in paragraphs:\n",
    "        content += p.text + '\\n'\n",
    "\n",
    "    return content"
   ]
  },
  {
   "cell_type": "code",
   "execution_count": 6,
   "metadata": {},
   "outputs": [
    {
     "name": "stdout",
     "output_type": "stream",
     "text": [
      "It’s a tale as old as time. Man sees electric bike advertisement touting 50-mile range. Man buys e-bike. Man’s first ride gets 25 miles before the battery’s charge dwindles. Man is justifiably disappointed.\n",
      "So what gives? Why does it seem like you can never trust the range numbers that the electric bike makers tell us?\n",
      "The short answer is that it seems that way because that’s the way it is. You simply can’t trust the range figure printed on an electric bicycle’s marketing material. At least not most of the time.\n",
      "There are several good reasons for this, so let’s break them down.\n",
      "First of all, e-bikes aren’t like cars. There aren’t any standards for battery range testing on e-bikes. It’s not like the “EPA-rated 32 mpg” or “NEDC-tested 250 miles of range” you’ll see in car ads. \n",
      "Range ratings for e-bikes aren’t determined by outside agencies. They are determined by the bike makers themselves. In the best case, the printed distance figures come from real-world range testing. Some companies like Aventon and Lectric eBikes have stepped up with real-world range data on their sites for each level of pedal assist or throttle riding. That’s the best case. But in the worst case, some companies just give us numbers that they pull out of a hat or theorize that their bike can probably achieve.\n",
      "Which companies are which? Without hard data displayed on the company’s site, it’s hard to know. That’s the problem. Unless a company puts real-world testing data out there, we’re left to guess.\n",
      "This is actually the single largest reason that you almost never actually achieve the range quoted by the e-bike manufacturer. There is a huge variance in the real-world battery range of an e-bike on a single charge. There are literally dozens of factors that have significant impacts on range. \n",
      "Even if an e-bike company wanted to give one number as the ultimate, end all and be all, certified range of their e-bike – a number that they are confident you can achieve – they simply wouldn’t be able to do it. It just depends on too many factors.\n",
      "It’s amazing how many factors can have a measurable impact on e-bike range. \n",
      "Are your tires low on air or pumped to the max? Are you riding uphill or downhill? Tailwind or headwind? Brake rub? Crouched or sitting up tall? Is the road wet? Did you eat a big lunch? Have you eaten big lunches for the last 30 years? What gear are you in? What power level are you in? Knobby or smooth tires? Are you wearing a backpack or carrying cargo on a rack or basket? Any passengers with you? Are you riding on asphalt? Concrete? Dirt? Gravel? Sand? The list goes on and on.\n",
      "Depending on the answers to those questions, the exact same electric bike could travel 15 miles or 60 miles on a single battery charge. Yeah, it’s wild. \n",
      "Many people expect e-bike ranges to be more repeatable, similar to car mileage. But then again, consider that unlike cars, which often outweigh their drivers by 20 to 1, you probably outweigh your bike by 3 or 4 to 1. So changes in you or your environment have a much bigger impact on range than they do for other larger vehicles likes cars and trucks.\n",
      "All of these factors make it harder for e-bike companies to offer a realistic range, and so they usually test for the best-case scenario. That means a lightweight rider (often listed at 150 lb., even though the average American adult female and male each weigh 170 and 200 lb., respectively) riding on a pancake flat and smooth surface with ultra-high air pressure in the tires and with the bike set into its lowest power mode. It’s not “cheating,” assuming they provide the real test data. It’s just putting their best pedaling foot forward. But in the real world, most of us won’t be riding in the same ideal conditions. So the “maximum” range that most e-bike companies quote simply aren’t realistic for most of us.\n",
      "This is another major factor affecting range. Any Europeans reading this, you poor things can ignore this section since your governments don’t believe you can be trusted with throttles. For the Americans, Canadians, Australians, and civil-disobeying Europeans still here with me, listen up.\n",
      "The general rule of thumb is that throttle riding will nearly halve your range compared to pedal assist. That’s why most e-bike companies will list their maximum range based on pedal assist. When you see an e-bike listed as having a “50-mile range,” that’s almost certainly the pedal assist range. The throttle range is probably closer to 25-30 miles, depending on conditions. A true 50-mile throttle-only range would usually require having a battery of at least 1,300 Wh, or around twice the size of an average e-bike battery.\n",
      "Some companies like Rad Power Bikes are pretty good about listing a range of ranges (get it?) instead of a single number. For example, they tell us that the RadRunner 3 Plus’s range is “Estimated 25-45+ miles per charge (40-72+ km)” in the specs section of the product page, though they’re still guilty of the slightly misleading “Up to 45 miles per charge” phrase in larger font on the main page.\n",
      "There’s a messy, overgeneralized rule of thumb that I created to quickly judge approximate bike range. But be warned: It requires a small amount of math. Don’t worry though, you can handle it.\n",
      "At 20 mph, my messy rule of thumb is 25 Wh/mi for throttle riding and 15 Wh/mi for pedal assist riding. This is for a decently powerful level – we’re not talking Eco Mode or Level 1 pedal assist here. At very low-power pedal assist where the rider does most of the work, it is possible to even achieve closer to 5 Wh/mi.\n",
      "For anyone who uses a more sensical system of measurement, that means when riding at 32 km/h, you can generally expect somewhere around 15 Wh/km on throttle and 9 Wh/km on pedal assist, though it can drop as low as 3 Wh/km on really low power pedal assist.\n",
      "So to use my rule of thumb, simply divide the watt-hour capacity (Wh) of the battery by my efficiency numbers and you’ll get the rough range. An e-bike like the RadRunner 3 Plus mentioned above with a 624 Wh battery should get roughly 624 Wh ÷ 25 Wh/mi = 25 miles of range on throttle-only riding. In sensical measurements, that’s 624 Wh ÷ 15 Wh/km = 41 km. That number actually aligns nicely with Rad’s published figures. Go figure.\n",
      "Like I said though, this is a rough approximation. It can vary based on many factors. If you’re a heavy rider, you might even use slightly higher constants than I mentioned, such as 30 Wh/mi instead of 25 Wh/mi. Other factors like terrain and tire width make a big impact on this guesstimate system as well. \n",
      "One argument I have with myself on e-bikes is that I can't trust the range estimates, even when the e-bike company is completely honest. I'm 6'2\" and almost 200 pounds. I weigh significantly more than their test riders and am significantly taller. This matters for both the range estimates and for guessing whether I will fit properly on an e-bike.\n",
      "The weight of the person is significantly more than the weight of the bike, even with a heavy e-bike and a light adult rider. An e-bike can simultaneously be an excellent choice for a 5'4\" woman of normal weight and even a not tall but fit adult man like Micah Toll, while being a poor choice for me.\n",
      "For science, I once took an e-bike with a teeny tiny 180 Wh battery on a long ride at the lowest possible power setting and with significant muscle effort on my part. I got a range of 56 miles (90 km), or close to 3 Wh/mi. It was grueling, but it showed what is possible, and how companies can get away with claiming sky-high ranges that may be possible, even if unlikely.\n",
      "So sure, my generalized rule of thumb above uses fuzzy numbers. But they aren’t anywhere near as fuzzy as the ratings from most e-bike manufacturers.\n",
      "In conclusion, I don’t intend to claim that there is malice on the part of most companies that market e-bikes. Their goal isn’t to mislead. They’re just caught in an unfortunate system where people want a short and pretty answer to what is under the surface actually a long and ugly question, “How far does it go on a charge?” \n",
      "So until people are prepared to receive a table of data in response to that question, companies are basically forced to choose between giving an unimpressive albeit more honest range spectrum like, “It can go 20-45 miles per charge,” or to just give the rosier answer of “It can go 45 miles.” With millions of dollars on the line, you can guess which one they prefer to choose.\n",
      "\n"
     ]
    }
   ],
   "source": [
    "response = requests.get(links[0])\n",
    "soup = BeautifulSoup(response.content, 'html.parser')\n",
    "\n",
    "content = parse_article_content(soup)\n",
    "print(content)"
   ]
  },
  {
   "cell_type": "code",
   "execution_count": 7,
   "metadata": {},
   "outputs": [],
   "source": [
    "# parse in string the date from the link of the article\n",
    "# the link is in the format: https://electrek.co/2019/01/01/article-title/\n",
    "# the date is in the format: 2019/01/01\n",
    "def parse_date(link):\n",
    "    splitted_link = link.split('/')\n",
    "    date = splitted_link[3] + '/' + splitted_link[4]  + '/' + splitted_link[5]\n",
    "    return date"
   ]
  },
  {
   "cell_type": "code",
   "execution_count": 8,
   "metadata": {},
   "outputs": [
    {
     "name": "stdout",
     "output_type": "stream",
     "text": [
      "2023/05/04\n"
     ]
    }
   ],
   "source": [
    "responce = requests.get(links[0])\n",
    "soup = BeautifulSoup(responce.content, 'html.parser')\n",
    "\n",
    "date = parse_date(links[0])\n",
    "print(date)"
   ]
  },
  {
   "cell_type": "code",
   "execution_count": 9,
   "metadata": {},
   "outputs": [],
   "source": [
    "#append all content to the dataframe with concat\n",
    "def getDfFromCategory(category):\n",
    "\n",
    "    # Create a dataframe to store the data\n",
    "    df = pd.DataFrame(columns=['date','content'])\n",
    "\n",
    "    for i in range(1, 44):\n",
    "    \n",
    "        links = get_links('https://electrek.co/guides/' + category + '/page/' + str(i) + '/')\n",
    "        for link in links:\n",
    "            #get the html page\n",
    "            response = requests.get(link)\n",
    "            soup = BeautifulSoup(response.content, 'html.parser')\n",
    "\n",
    "            content = parse_article_content(soup)\n",
    "            parsedDate = parse_date(link)\n",
    "\n",
    "            #create a dataframe with the content and the date\n",
    "            df = pd.concat([df, pd.DataFrame({'date': [parsedDate], 'content': [content], 'label': [category]})], ignore_index=True)\n",
    "        \n",
    "        print('Page ' + str(i) + ' done')\n",
    "        \n",
    "    return df\n",
    "\n",
    "# print the length of the dataframe\n",
    "\n"
   ]
  },
  {
   "cell_type": "code",
   "execution_count": 10,
   "metadata": {},
   "outputs": [
    {
     "name": "stdout",
     "output_type": "stream",
     "text": [
      "Page 1 done\n",
      "Page 2 done\n",
      "Page 3 done\n",
      "Page 4 done\n",
      "Page 5 done\n",
      "Page 6 done\n",
      "Page 7 done\n",
      "Page 8 done\n"
     ]
    },
    {
     "ename": "KeyboardInterrupt",
     "evalue": "",
     "output_type": "error",
     "traceback": [
      "\u001b[0;31m---------------------------------------------------------------------------\u001b[0m",
      "\u001b[0;31mKeyboardInterrupt\u001b[0m                         Traceback (most recent call last)",
      "Cell \u001b[0;32mIn[10], line 6\u001b[0m\n\u001b[1;32m      2\u001b[0m file_names \u001b[39m=\u001b[39m [\u001b[39m'\u001b[39m\u001b[39mtesla.csv\u001b[39m\u001b[39m'\u001b[39m, \u001b[39m'\u001b[39m\u001b[39mebikes.csv\u001b[39m\u001b[39m'\u001b[39m, \u001b[39m'\u001b[39m\u001b[39msolar.csv\u001b[39m\u001b[39m'\u001b[39m]\n\u001b[1;32m      5\u001b[0m \u001b[39mfor\u001b[39;00m i \u001b[39min\u001b[39;00m \u001b[39mrange\u001b[39m(\u001b[39m3\u001b[39m):\n\u001b[0;32m----> 6\u001b[0m     df \u001b[39m=\u001b[39m getDfFromCategory(categories[i])\n\u001b[1;32m      7\u001b[0m     df\u001b[39m.\u001b[39mto_csv(file_names[i], index\u001b[39m=\u001b[39m\u001b[39mFalse\u001b[39;00m)\n",
      "Cell \u001b[0;32mIn[9], line 12\u001b[0m, in \u001b[0;36mgetDfFromCategory\u001b[0;34m(category)\u001b[0m\n\u001b[1;32m      9\u001b[0m links \u001b[39m=\u001b[39m get_links(\u001b[39m'\u001b[39m\u001b[39mhttps://electrek.co/guides/\u001b[39m\u001b[39m'\u001b[39m \u001b[39m+\u001b[39m category \u001b[39m+\u001b[39m \u001b[39m'\u001b[39m\u001b[39m/page/\u001b[39m\u001b[39m'\u001b[39m \u001b[39m+\u001b[39m \u001b[39mstr\u001b[39m(i) \u001b[39m+\u001b[39m \u001b[39m'\u001b[39m\u001b[39m/\u001b[39m\u001b[39m'\u001b[39m)\n\u001b[1;32m     10\u001b[0m \u001b[39mfor\u001b[39;00m link \u001b[39min\u001b[39;00m links:\n\u001b[1;32m     11\u001b[0m     \u001b[39m#get the html page\u001b[39;00m\n\u001b[0;32m---> 12\u001b[0m     response \u001b[39m=\u001b[39m requests\u001b[39m.\u001b[39;49mget(link)\n\u001b[1;32m     13\u001b[0m     soup \u001b[39m=\u001b[39m BeautifulSoup(response\u001b[39m.\u001b[39mcontent, \u001b[39m'\u001b[39m\u001b[39mhtml.parser\u001b[39m\u001b[39m'\u001b[39m)\n\u001b[1;32m     15\u001b[0m     content \u001b[39m=\u001b[39m parse_article_content(soup)\n",
      "File \u001b[0;32m~/Library/Python/3.9/lib/python/site-packages/requests/api.py:73\u001b[0m, in \u001b[0;36mget\u001b[0;34m(url, params, **kwargs)\u001b[0m\n\u001b[1;32m     62\u001b[0m \u001b[39mdef\u001b[39;00m \u001b[39mget\u001b[39m(url, params\u001b[39m=\u001b[39m\u001b[39mNone\u001b[39;00m, \u001b[39m*\u001b[39m\u001b[39m*\u001b[39mkwargs):\n\u001b[1;32m     63\u001b[0m \u001b[39m    \u001b[39m\u001b[39mr\u001b[39m\u001b[39m\"\"\"Sends a GET request.\u001b[39;00m\n\u001b[1;32m     64\u001b[0m \n\u001b[1;32m     65\u001b[0m \u001b[39m    :param url: URL for the new :class:`Request` object.\u001b[39;00m\n\u001b[0;32m   (...)\u001b[0m\n\u001b[1;32m     70\u001b[0m \u001b[39m    :rtype: requests.Response\u001b[39;00m\n\u001b[1;32m     71\u001b[0m \u001b[39m    \"\"\"\u001b[39;00m\n\u001b[0;32m---> 73\u001b[0m     \u001b[39mreturn\u001b[39;00m request(\u001b[39m\"\u001b[39;49m\u001b[39mget\u001b[39;49m\u001b[39m\"\u001b[39;49m, url, params\u001b[39m=\u001b[39;49mparams, \u001b[39m*\u001b[39;49m\u001b[39m*\u001b[39;49mkwargs)\n",
      "File \u001b[0;32m~/Library/Python/3.9/lib/python/site-packages/requests/api.py:59\u001b[0m, in \u001b[0;36mrequest\u001b[0;34m(method, url, **kwargs)\u001b[0m\n\u001b[1;32m     55\u001b[0m \u001b[39m# By using the 'with' statement we are sure the session is closed, thus we\u001b[39;00m\n\u001b[1;32m     56\u001b[0m \u001b[39m# avoid leaving sockets open which can trigger a ResourceWarning in some\u001b[39;00m\n\u001b[1;32m     57\u001b[0m \u001b[39m# cases, and look like a memory leak in others.\u001b[39;00m\n\u001b[1;32m     58\u001b[0m \u001b[39mwith\u001b[39;00m sessions\u001b[39m.\u001b[39mSession() \u001b[39mas\u001b[39;00m session:\n\u001b[0;32m---> 59\u001b[0m     \u001b[39mreturn\u001b[39;00m session\u001b[39m.\u001b[39;49mrequest(method\u001b[39m=\u001b[39;49mmethod, url\u001b[39m=\u001b[39;49murl, \u001b[39m*\u001b[39;49m\u001b[39m*\u001b[39;49mkwargs)\n",
      "File \u001b[0;32m~/Library/Python/3.9/lib/python/site-packages/requests/sessions.py:587\u001b[0m, in \u001b[0;36mSession.request\u001b[0;34m(self, method, url, params, data, headers, cookies, files, auth, timeout, allow_redirects, proxies, hooks, stream, verify, cert, json)\u001b[0m\n\u001b[1;32m    582\u001b[0m send_kwargs \u001b[39m=\u001b[39m {\n\u001b[1;32m    583\u001b[0m     \u001b[39m\"\u001b[39m\u001b[39mtimeout\u001b[39m\u001b[39m\"\u001b[39m: timeout,\n\u001b[1;32m    584\u001b[0m     \u001b[39m\"\u001b[39m\u001b[39mallow_redirects\u001b[39m\u001b[39m\"\u001b[39m: allow_redirects,\n\u001b[1;32m    585\u001b[0m }\n\u001b[1;32m    586\u001b[0m send_kwargs\u001b[39m.\u001b[39mupdate(settings)\n\u001b[0;32m--> 587\u001b[0m resp \u001b[39m=\u001b[39m \u001b[39mself\u001b[39;49m\u001b[39m.\u001b[39;49msend(prep, \u001b[39m*\u001b[39;49m\u001b[39m*\u001b[39;49msend_kwargs)\n\u001b[1;32m    589\u001b[0m \u001b[39mreturn\u001b[39;00m resp\n",
      "File \u001b[0;32m~/Library/Python/3.9/lib/python/site-packages/requests/sessions.py:701\u001b[0m, in \u001b[0;36mSession.send\u001b[0;34m(self, request, **kwargs)\u001b[0m\n\u001b[1;32m    698\u001b[0m start \u001b[39m=\u001b[39m preferred_clock()\n\u001b[1;32m    700\u001b[0m \u001b[39m# Send the request\u001b[39;00m\n\u001b[0;32m--> 701\u001b[0m r \u001b[39m=\u001b[39m adapter\u001b[39m.\u001b[39;49msend(request, \u001b[39m*\u001b[39;49m\u001b[39m*\u001b[39;49mkwargs)\n\u001b[1;32m    703\u001b[0m \u001b[39m# Total elapsed time of the request (approximately)\u001b[39;00m\n\u001b[1;32m    704\u001b[0m elapsed \u001b[39m=\u001b[39m preferred_clock() \u001b[39m-\u001b[39m start\n",
      "File \u001b[0;32m~/Library/Python/3.9/lib/python/site-packages/requests/adapters.py:487\u001b[0m, in \u001b[0;36mHTTPAdapter.send\u001b[0;34m(self, request, stream, timeout, verify, cert, proxies)\u001b[0m\n\u001b[1;32m    484\u001b[0m     timeout \u001b[39m=\u001b[39m TimeoutSauce(connect\u001b[39m=\u001b[39mtimeout, read\u001b[39m=\u001b[39mtimeout)\n\u001b[1;32m    486\u001b[0m \u001b[39mtry\u001b[39;00m:\n\u001b[0;32m--> 487\u001b[0m     resp \u001b[39m=\u001b[39m conn\u001b[39m.\u001b[39;49murlopen(\n\u001b[1;32m    488\u001b[0m         method\u001b[39m=\u001b[39;49mrequest\u001b[39m.\u001b[39;49mmethod,\n\u001b[1;32m    489\u001b[0m         url\u001b[39m=\u001b[39;49murl,\n\u001b[1;32m    490\u001b[0m         body\u001b[39m=\u001b[39;49mrequest\u001b[39m.\u001b[39;49mbody,\n\u001b[1;32m    491\u001b[0m         headers\u001b[39m=\u001b[39;49mrequest\u001b[39m.\u001b[39;49mheaders,\n\u001b[1;32m    492\u001b[0m         redirect\u001b[39m=\u001b[39;49m\u001b[39mFalse\u001b[39;49;00m,\n\u001b[1;32m    493\u001b[0m         assert_same_host\u001b[39m=\u001b[39;49m\u001b[39mFalse\u001b[39;49;00m,\n\u001b[1;32m    494\u001b[0m         preload_content\u001b[39m=\u001b[39;49m\u001b[39mFalse\u001b[39;49;00m,\n\u001b[1;32m    495\u001b[0m         decode_content\u001b[39m=\u001b[39;49m\u001b[39mFalse\u001b[39;49;00m,\n\u001b[1;32m    496\u001b[0m         retries\u001b[39m=\u001b[39;49m\u001b[39mself\u001b[39;49m\u001b[39m.\u001b[39;49mmax_retries,\n\u001b[1;32m    497\u001b[0m         timeout\u001b[39m=\u001b[39;49mtimeout,\n\u001b[1;32m    498\u001b[0m         chunked\u001b[39m=\u001b[39;49mchunked,\n\u001b[1;32m    499\u001b[0m     )\n\u001b[1;32m    501\u001b[0m \u001b[39mexcept\u001b[39;00m (ProtocolError, \u001b[39mOSError\u001b[39;00m) \u001b[39mas\u001b[39;00m err:\n\u001b[1;32m    502\u001b[0m     \u001b[39mraise\u001b[39;00m \u001b[39mConnectionError\u001b[39;00m(err, request\u001b[39m=\u001b[39mrequest)\n",
      "File \u001b[0;32m~/Library/Python/3.9/lib/python/site-packages/urllib3/connectionpool.py:703\u001b[0m, in \u001b[0;36mHTTPConnectionPool.urlopen\u001b[0;34m(self, method, url, body, headers, retries, redirect, assert_same_host, timeout, pool_timeout, release_conn, chunked, body_pos, **response_kw)\u001b[0m\n\u001b[1;32m    700\u001b[0m     \u001b[39mself\u001b[39m\u001b[39m.\u001b[39m_prepare_proxy(conn)\n\u001b[1;32m    702\u001b[0m \u001b[39m# Make the request on the httplib connection object.\u001b[39;00m\n\u001b[0;32m--> 703\u001b[0m httplib_response \u001b[39m=\u001b[39m \u001b[39mself\u001b[39;49m\u001b[39m.\u001b[39;49m_make_request(\n\u001b[1;32m    704\u001b[0m     conn,\n\u001b[1;32m    705\u001b[0m     method,\n\u001b[1;32m    706\u001b[0m     url,\n\u001b[1;32m    707\u001b[0m     timeout\u001b[39m=\u001b[39;49mtimeout_obj,\n\u001b[1;32m    708\u001b[0m     body\u001b[39m=\u001b[39;49mbody,\n\u001b[1;32m    709\u001b[0m     headers\u001b[39m=\u001b[39;49mheaders,\n\u001b[1;32m    710\u001b[0m     chunked\u001b[39m=\u001b[39;49mchunked,\n\u001b[1;32m    711\u001b[0m )\n\u001b[1;32m    713\u001b[0m \u001b[39m# If we're going to release the connection in ``finally:``, then\u001b[39;00m\n\u001b[1;32m    714\u001b[0m \u001b[39m# the response doesn't need to know about the connection. Otherwise\u001b[39;00m\n\u001b[1;32m    715\u001b[0m \u001b[39m# it will also try to release it and we'll have a double-release\u001b[39;00m\n\u001b[1;32m    716\u001b[0m \u001b[39m# mess.\u001b[39;00m\n\u001b[1;32m    717\u001b[0m response_conn \u001b[39m=\u001b[39m conn \u001b[39mif\u001b[39;00m \u001b[39mnot\u001b[39;00m release_conn \u001b[39melse\u001b[39;00m \u001b[39mNone\u001b[39;00m\n",
      "File \u001b[0;32m~/Library/Python/3.9/lib/python/site-packages/urllib3/connectionpool.py:449\u001b[0m, in \u001b[0;36mHTTPConnectionPool._make_request\u001b[0;34m(self, conn, method, url, timeout, chunked, **httplib_request_kw)\u001b[0m\n\u001b[1;32m    444\u001b[0m             httplib_response \u001b[39m=\u001b[39m conn\u001b[39m.\u001b[39mgetresponse()\n\u001b[1;32m    445\u001b[0m         \u001b[39mexcept\u001b[39;00m \u001b[39mBaseException\u001b[39;00m \u001b[39mas\u001b[39;00m e:\n\u001b[1;32m    446\u001b[0m             \u001b[39m# Remove the TypeError from the exception chain in\u001b[39;00m\n\u001b[1;32m    447\u001b[0m             \u001b[39m# Python 3 (including for exceptions like SystemExit).\u001b[39;00m\n\u001b[1;32m    448\u001b[0m             \u001b[39m# Otherwise it looks like a bug in the code.\u001b[39;00m\n\u001b[0;32m--> 449\u001b[0m             six\u001b[39m.\u001b[39;49mraise_from(e, \u001b[39mNone\u001b[39;49;00m)\n\u001b[1;32m    450\u001b[0m \u001b[39mexcept\u001b[39;00m (SocketTimeout, BaseSSLError, SocketError) \u001b[39mas\u001b[39;00m e:\n\u001b[1;32m    451\u001b[0m     \u001b[39mself\u001b[39m\u001b[39m.\u001b[39m_raise_timeout(err\u001b[39m=\u001b[39me, url\u001b[39m=\u001b[39murl, timeout_value\u001b[39m=\u001b[39mread_timeout)\n",
      "File \u001b[0;32m<string>:3\u001b[0m, in \u001b[0;36mraise_from\u001b[0;34m(value, from_value)\u001b[0m\n",
      "File \u001b[0;32m~/Library/Python/3.9/lib/python/site-packages/urllib3/connectionpool.py:444\u001b[0m, in \u001b[0;36mHTTPConnectionPool._make_request\u001b[0;34m(self, conn, method, url, timeout, chunked, **httplib_request_kw)\u001b[0m\n\u001b[1;32m    441\u001b[0m \u001b[39mexcept\u001b[39;00m \u001b[39mTypeError\u001b[39;00m:\n\u001b[1;32m    442\u001b[0m     \u001b[39m# Python 3\u001b[39;00m\n\u001b[1;32m    443\u001b[0m     \u001b[39mtry\u001b[39;00m:\n\u001b[0;32m--> 444\u001b[0m         httplib_response \u001b[39m=\u001b[39m conn\u001b[39m.\u001b[39;49mgetresponse()\n\u001b[1;32m    445\u001b[0m     \u001b[39mexcept\u001b[39;00m \u001b[39mBaseException\u001b[39;00m \u001b[39mas\u001b[39;00m e:\n\u001b[1;32m    446\u001b[0m         \u001b[39m# Remove the TypeError from the exception chain in\u001b[39;00m\n\u001b[1;32m    447\u001b[0m         \u001b[39m# Python 3 (including for exceptions like SystemExit).\u001b[39;00m\n\u001b[1;32m    448\u001b[0m         \u001b[39m# Otherwise it looks like a bug in the code.\u001b[39;00m\n\u001b[1;32m    449\u001b[0m         six\u001b[39m.\u001b[39mraise_from(e, \u001b[39mNone\u001b[39;00m)\n",
      "File \u001b[0;32m/Applications/Xcode.app/Contents/Developer/Library/Frameworks/Python3.framework/Versions/3.9/lib/python3.9/http/client.py:1349\u001b[0m, in \u001b[0;36mHTTPConnection.getresponse\u001b[0;34m(self)\u001b[0m\n\u001b[1;32m   1347\u001b[0m \u001b[39mtry\u001b[39;00m:\n\u001b[1;32m   1348\u001b[0m     \u001b[39mtry\u001b[39;00m:\n\u001b[0;32m-> 1349\u001b[0m         response\u001b[39m.\u001b[39;49mbegin()\n\u001b[1;32m   1350\u001b[0m     \u001b[39mexcept\u001b[39;00m \u001b[39mConnectionError\u001b[39;00m:\n\u001b[1;32m   1351\u001b[0m         \u001b[39mself\u001b[39m\u001b[39m.\u001b[39mclose()\n",
      "File \u001b[0;32m/Applications/Xcode.app/Contents/Developer/Library/Frameworks/Python3.framework/Versions/3.9/lib/python3.9/http/client.py:316\u001b[0m, in \u001b[0;36mHTTPResponse.begin\u001b[0;34m(self)\u001b[0m\n\u001b[1;32m    314\u001b[0m \u001b[39m# read until we get a non-100 response\u001b[39;00m\n\u001b[1;32m    315\u001b[0m \u001b[39mwhile\u001b[39;00m \u001b[39mTrue\u001b[39;00m:\n\u001b[0;32m--> 316\u001b[0m     version, status, reason \u001b[39m=\u001b[39m \u001b[39mself\u001b[39;49m\u001b[39m.\u001b[39;49m_read_status()\n\u001b[1;32m    317\u001b[0m     \u001b[39mif\u001b[39;00m status \u001b[39m!=\u001b[39m CONTINUE:\n\u001b[1;32m    318\u001b[0m         \u001b[39mbreak\u001b[39;00m\n",
      "File \u001b[0;32m/Applications/Xcode.app/Contents/Developer/Library/Frameworks/Python3.framework/Versions/3.9/lib/python3.9/http/client.py:277\u001b[0m, in \u001b[0;36mHTTPResponse._read_status\u001b[0;34m(self)\u001b[0m\n\u001b[1;32m    276\u001b[0m \u001b[39mdef\u001b[39;00m \u001b[39m_read_status\u001b[39m(\u001b[39mself\u001b[39m):\n\u001b[0;32m--> 277\u001b[0m     line \u001b[39m=\u001b[39m \u001b[39mstr\u001b[39m(\u001b[39mself\u001b[39;49m\u001b[39m.\u001b[39;49mfp\u001b[39m.\u001b[39;49mreadline(_MAXLINE \u001b[39m+\u001b[39;49m \u001b[39m1\u001b[39;49m), \u001b[39m\"\u001b[39m\u001b[39miso-8859-1\u001b[39m\u001b[39m\"\u001b[39m)\n\u001b[1;32m    278\u001b[0m     \u001b[39mif\u001b[39;00m \u001b[39mlen\u001b[39m(line) \u001b[39m>\u001b[39m _MAXLINE:\n\u001b[1;32m    279\u001b[0m         \u001b[39mraise\u001b[39;00m LineTooLong(\u001b[39m\"\u001b[39m\u001b[39mstatus line\u001b[39m\u001b[39m\"\u001b[39m)\n",
      "File \u001b[0;32m/Applications/Xcode.app/Contents/Developer/Library/Frameworks/Python3.framework/Versions/3.9/lib/python3.9/socket.py:704\u001b[0m, in \u001b[0;36mSocketIO.readinto\u001b[0;34m(self, b)\u001b[0m\n\u001b[1;32m    702\u001b[0m \u001b[39mwhile\u001b[39;00m \u001b[39mTrue\u001b[39;00m:\n\u001b[1;32m    703\u001b[0m     \u001b[39mtry\u001b[39;00m:\n\u001b[0;32m--> 704\u001b[0m         \u001b[39mreturn\u001b[39;00m \u001b[39mself\u001b[39;49m\u001b[39m.\u001b[39;49m_sock\u001b[39m.\u001b[39;49mrecv_into(b)\n\u001b[1;32m    705\u001b[0m     \u001b[39mexcept\u001b[39;00m timeout:\n\u001b[1;32m    706\u001b[0m         \u001b[39mself\u001b[39m\u001b[39m.\u001b[39m_timeout_occurred \u001b[39m=\u001b[39m \u001b[39mTrue\u001b[39;00m\n",
      "File \u001b[0;32m/Applications/Xcode.app/Contents/Developer/Library/Frameworks/Python3.framework/Versions/3.9/lib/python3.9/ssl.py:1241\u001b[0m, in \u001b[0;36mSSLSocket.recv_into\u001b[0;34m(self, buffer, nbytes, flags)\u001b[0m\n\u001b[1;32m   1237\u001b[0m     \u001b[39mif\u001b[39;00m flags \u001b[39m!=\u001b[39m \u001b[39m0\u001b[39m:\n\u001b[1;32m   1238\u001b[0m         \u001b[39mraise\u001b[39;00m \u001b[39mValueError\u001b[39;00m(\n\u001b[1;32m   1239\u001b[0m           \u001b[39m\"\u001b[39m\u001b[39mnon-zero flags not allowed in calls to recv_into() on \u001b[39m\u001b[39m%s\u001b[39;00m\u001b[39m\"\u001b[39m \u001b[39m%\u001b[39m\n\u001b[1;32m   1240\u001b[0m           \u001b[39mself\u001b[39m\u001b[39m.\u001b[39m\u001b[39m__class__\u001b[39m)\n\u001b[0;32m-> 1241\u001b[0m     \u001b[39mreturn\u001b[39;00m \u001b[39mself\u001b[39;49m\u001b[39m.\u001b[39;49mread(nbytes, buffer)\n\u001b[1;32m   1242\u001b[0m \u001b[39melse\u001b[39;00m:\n\u001b[1;32m   1243\u001b[0m     \u001b[39mreturn\u001b[39;00m \u001b[39msuper\u001b[39m()\u001b[39m.\u001b[39mrecv_into(buffer, nbytes, flags)\n",
      "File \u001b[0;32m/Applications/Xcode.app/Contents/Developer/Library/Frameworks/Python3.framework/Versions/3.9/lib/python3.9/ssl.py:1099\u001b[0m, in \u001b[0;36mSSLSocket.read\u001b[0;34m(self, len, buffer)\u001b[0m\n\u001b[1;32m   1097\u001b[0m \u001b[39mtry\u001b[39;00m:\n\u001b[1;32m   1098\u001b[0m     \u001b[39mif\u001b[39;00m buffer \u001b[39mis\u001b[39;00m \u001b[39mnot\u001b[39;00m \u001b[39mNone\u001b[39;00m:\n\u001b[0;32m-> 1099\u001b[0m         \u001b[39mreturn\u001b[39;00m \u001b[39mself\u001b[39;49m\u001b[39m.\u001b[39;49m_sslobj\u001b[39m.\u001b[39;49mread(\u001b[39mlen\u001b[39;49m, buffer)\n\u001b[1;32m   1100\u001b[0m     \u001b[39melse\u001b[39;00m:\n\u001b[1;32m   1101\u001b[0m         \u001b[39mreturn\u001b[39;00m \u001b[39mself\u001b[39m\u001b[39m.\u001b[39m_sslobj\u001b[39m.\u001b[39mread(\u001b[39mlen\u001b[39m)\n",
      "\u001b[0;31mKeyboardInterrupt\u001b[0m: "
     ]
    }
   ],
   "source": [
    "categories = ['tesla', 'ebikes', 'egeb']\n",
    "file_names = ['tesla.csv', 'ebikes.csv', 'solar.csv']\n",
    "\n",
    "\n",
    "for i in range(3):\n",
    "    df = getDfFromCategory(categories[i])\n",
    "    df.to_csv(file_names[i], index=False)"
   ]
  }
 ],
 "metadata": {
  "kernelspec": {
   "display_name": "Python 3",
   "language": "python",
   "name": "python3"
  },
  "language_info": {
   "codemirror_mode": {
    "name": "ipython",
    "version": 3
   },
   "file_extension": ".py",
   "mimetype": "text/x-python",
   "name": "python",
   "nbconvert_exporter": "python",
   "pygments_lexer": "ipython3",
   "version": "3.9.6"
  },
  "orig_nbformat": 4
 },
 "nbformat": 4,
 "nbformat_minor": 2
}
