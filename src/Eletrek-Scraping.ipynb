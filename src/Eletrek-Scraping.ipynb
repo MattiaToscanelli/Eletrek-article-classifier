{
 "cells": [
  {
   "attachments": {},
   "cell_type": "markdown",
   "metadata": {},
   "source": [
    "# Scraping of Articles from Eletrek\n",
    "* Of the catogories: Ebikes and Hyperloop"
   ]
  },
  {
   "cell_type": "code",
   "execution_count": 8,
   "metadata": {
    "pycharm": {
     "is_executing": true
    }
   },
   "outputs": [],
   "source": [
    "# Scraping of Articles from Eletrek\n",
    "## Of the catogories: Tesla, Ebikes and Green Energy Technologies"
   ]
  },
  {
   "cell_type": "code",
   "execution_count": 1,
   "metadata": {
    "pycharm": {
     "is_executing": true
    }
   },
   "outputs": [],
   "source": [
    "from bs4 import BeautifulSoup\n",
    "import urllib.request,sys,time\n",
    "import requests\n",
    "import pandas as pd"
   ]
  },
  {
   "cell_type": "code",
   "execution_count": 2,
   "metadata": {},
   "outputs": [],
   "source": [
    "def get_links(url):\n",
    "    links = []\n",
    "\n",
    "    # Get the page\n",
    "    page = requests.get(url)\n",
    "\n",
    "    # Parse the HTML\n",
    "    soup = BeautifulSoup(page.text, \"html.parser\")\n",
    "\n",
    "    # Get all the a tags\n",
    "    links = soup.find_all('a',attrs={'class':'article__title-link'})\n",
    "\n",
    "    # Get the links from the a tags\n",
    "    links = [link.get('href') for link in links]\n",
    "    \n",
    "    # Filter links that conatains only electrek.co\n",
    "    links = [link for link in links if 'electrek.co' in link]\n",
    "\n",
    "    return links"
   ]
  },
  {
   "cell_type": "code",
   "execution_count": 11,
   "metadata": {},
   "outputs": [
    {
     "name": "stdout",
     "output_type": "stream",
     "text": [
      "https://electrek.co/2023/03/23/aventon-worx-greenworks-e-bike-power-tools/\n",
      "https://electrek.co/2023/03/22/acer-unveils-electric-scooter-bike-desk/\n",
      "https://electrek.co/2023/03/21/electric-bike-tax-credit-bill-reintroduced/\n",
      "https://electrek.co/2023/03/20/acer-ebii-electric-bike-ai/\n",
      "https://electrek.co/2023/03/17/himiway-launches-3-new-electric-bikes-including-a-silly-little-499-model/\n",
      "https://electrek.co/2023/03/15/juiced-drops-prices-powerful-hyperscorpion-e-bikes/\n",
      "https://electrek.co/2023/03/14/hovsco-launches-new-fat-tire-e-bikes-hovwagon-hovscout/\n",
      "https://electrek.co/2023/03/13/engwe-m20-launched-as-low-cost-dual-suspension-electric-moped/\n",
      "https://electrek.co/2023/03/13/why-fox-news-wants-you-to-be-afraid-of-electric-bikes/\n",
      "https://electrek.co/2023/03/12/believe-it-or-not-the-amish-are-loving-electric-bikes/\n",
      "https://electrek.co/2023/03/09/super73s-c1x-electric-motorcycle-expected-out-this-year/\n",
      "https://electrek.co/2023/03/07/electric-bicycle-bafang-expands-into-electric-motorcycles/\n",
      "https://electrek.co/2023/03/07/nyc-banning-electric-bikes-without-ul-batteries-fires/\n",
      "https://electrek.co/2023/03/06/mokwheel-scoria-review-electric-bike/\n",
      "https://electrek.co/2023/03/05/here-are-the-best-electric-bikes-you-can-buy-at-every-price-level/\n",
      "https://electrek.co/2023/03/02/ride1up-revv1-fs-review-electric-bike-moped/\n",
      "https://electrek.co/2023/03/01/radrunner-3-plus-unveiled-from-rad-power-bikes/\n",
      "https://electrek.co/2023/02/23/ride1up-turris-electric-touring-bike-review/\n",
      "https://electrek.co/2023/02/22/radical-new-ride-by-wire-electric-bike-drivetrain-free-drive-schaeffler/\n",
      "https://electrek.co/2023/02/20/dirt-jumping-electric-bike-onyx-lzr-pro/\n",
      "https://electrek.co/2023/02/17/trek-fetch-plus-2-electric-bike-cargo/\n",
      "https://electrek.co/2023/02/16/addmotor-m340-review-fat-tire-electric-trike/\n",
      "https://electrek.co/2023/02/14/evelo-dash-review-belt-drive-folding-e-bike-with-class-2/\n",
      "https://electrek.co/2023/02/14/emporsche-goes-full-electric-bike-greyp/\n"
     ]
    }
   ],
   "source": [
    "links = get_links('https://electrek.co/guides/ebikes/')"
   ]
  },
  {
   "cell_type": "code",
   "execution_count": 3,
   "metadata": {},
   "outputs": [],
   "source": [
    "def parse_article_content(soup):\n",
    "\n",
    "    # get only the main content of the article\n",
    "    div_content = soup.find('div', {'class': 'post-content'})\n",
    "    paragraphs = div_content.find_all('p')\n",
    "\n",
    "    # remove the last paragraph which ia an information about the site\n",
    "    paragraphs.pop()\n",
    "\n",
    "    content = ''\n",
    "    for p in paragraphs:\n",
    "        content += p.text + '\\n'\n",
    "\n",
    "    return content"
   ]
  },
  {
   "cell_type": "code",
   "execution_count": 13,
   "metadata": {},
   "outputs": [
    {
     "name": "stdout",
     "output_type": "stream",
     "text": [
      "We’re officially living in the future: No longer are your e-bike batteries just for your e-bikes and your power tool batteries just for your drills and string trimmers. Now you can actually mix and match your batteries, at least if you have the right e-bike. Companies like Aventon and Greenworks are making it happen.\n",
      "Lithium-ion batteries are the single most expensive component on an electric bike, and they usually contribute to the bulk of an e-bike’s price tag.\n",
      "That will come as no surprise to anyone who has a collection of power tools but only a few batteries that they swap back and forth between them. It doesn’t make sense to own a pile of expensive batteries if they’re just sitting around not getting used. And that’s before even considering the environmental ramifications.\n",
      "And so several companies have been working on – and now apparently succeeded at – making e-bikes compatible with power tool batteries.\n",
      "The first example comes from Aventon. This California-based bike manufacturer has a wide range of electric bikes, but until now they’ve all required Aventon’s own e-bike batteries. Thanks to a recent partnership with the tool manufacturer Worx, you can actually now run Aventon’s Pace 350 E-bike off of a pair of 20V Worx batteries.\n",
      "The companies teamed up to create an adapter that mounts in place of the typical Aventon battery.\n",
      "Using two Worx 8 Ah batteries, the setup claims to offer up to 28 miles (45 km) of range on pedal assist. With a top speed of 20 mph (32 km/h), you’ll be traveling a lot faster than a power drill!\n",
      "Aventon and Worx aren’t the only companies putting power tool batteries on e-bikes. Greenworks, better known for its electric lawn tool line including products like electric mowers and leaf blowers, announced a big push into new products several months ago.\n",
      "It looks like the R&D team has made some significant progress in the last few months, because there are already a few models up on the Greenworks site. They aren’t available for purchase yet, nor are there any prices, but the specs certainly sound intriguing.\n",
      "They all feature 750W motors and 20 mph (32 km/h) top speeds, though the range figures have been left with placeholder X’s in them, perhaps implying these products aren’t quite ready for launch (and that perhaps the pages aren’t even supposed to be live yet).\n",
      "There aren’t any prices yet either, but the various models give us a good idea of what to expect from the company. A 27.5″ tire commuter e-bike, a 26″ fat tire e-bike, and a 20″ moped-style e-bike run the gamut of utility, fun, and cruising models for just about every type of rider.\n",
      "And most importantly, they all seem to use Greenworks’ existing 80V batteries. So if you’ve got a Greenworks lawn mower or other tool in their 80V ecosystem, you could share it between your bike and your other gear.\n",
      "This is pretty awesome, and fulfills a longstanding desire of many e-bike enthusiasts. \n",
      "Obviously it requires having the right bike and the right tools, so it’s only going to work for a certain segment of the larger e-bike population. But if that includes you, then I’m a bit jealous. I’d love to be able to share my oversized collection of both e-bike and power tool batteries with each other.\n",
      "Plus, this is a much safer alternative to most other power tool-powered e-bikes we normally see…\n",
      " Getting slip and spin when accelerating. How can I make this grip better? by      u/c0nsumer in      ebikes \n",
      "\n",
      "\n"
     ]
    }
   ],
   "source": [
    "response = requests.get(links[0])\n",
    "soup = BeautifulSoup(response.content, 'html.parser')\n",
    "\n",
    "content = parse_article_content(soup)\n",
    "print(content)"
   ]
  },
  {
   "cell_type": "code",
   "execution_count": 4,
   "metadata": {},
   "outputs": [],
   "source": [
    "# parse in string the date from the link of the article\n",
    "# the link is in the format: https://electrek.co/2019/01/01/article-title/\n",
    "# the date is in the format: 2019/01/01\n",
    "def parse_date(link):\n",
    "    splitted_link = link.split('/')\n",
    "    date = splitted_link[3] + '/' + splitted_link[4]  + '/' + splitted_link[5]\n",
    "    return date"
   ]
  },
  {
   "cell_type": "code",
   "execution_count": 15,
   "metadata": {},
   "outputs": [
    {
     "name": "stdout",
     "output_type": "stream",
     "text": [
      "2023/03/23\n"
     ]
    }
   ],
   "source": [
    "responce = requests.get(links[0])\n",
    "soup = BeautifulSoup(responce.content, 'html.parser')\n",
    "\n",
    "date = parse_date(links[0])\n",
    "print(date)"
   ]
  },
  {
   "cell_type": "code",
   "execution_count": 5,
   "metadata": {},
   "outputs": [],
   "source": [
    "#append all content to the dataframe with concat\n",
    "def getDfFromCategory(category):\n",
    "\n",
    "    # Create a dataframe to store the data\n",
    "    df = pd.DataFrame(columns=['date','content'])\n",
    "\n",
    "    for i in range(1, 44):\n",
    "    \n",
    "        links = get_links('https://electrek.co/guides/' + category + '/page/' + str(i) + '/')\n",
    "        for link in links:\n",
    "            #get the html page\n",
    "            response = requests.get(link)\n",
    "            soup = BeautifulSoup(response.content, 'html.parser')\n",
    "\n",
    "            content = parse_article_content(soup)\n",
    "            parsedDate = parse_date(link)\n",
    "\n",
    "            #create a dataframe with the content and the date\n",
    "            df = pd.concat([df, pd.DataFrame({'date': [parsedDate], 'content': [content], 'label': [category]})], ignore_index=True)\n",
    "        \n",
    "        print('Page ' + str(i) + ' done')\n",
    "        \n",
    "    return df\n",
    "\n",
    "# print the length of the dataframe\n",
    "\n"
   ]
  },
  {
   "cell_type": "code",
   "execution_count": 6,
   "metadata": {},
   "outputs": [
    {
     "name": "stdout",
     "output_type": "stream",
     "text": [
      "Page 1 done\n",
      "Page 2 done\n",
      "Page 3 done\n",
      "Page 4 done\n",
      "Page 5 done\n",
      "Page 6 done\n",
      "Page 7 done\n",
      "Page 8 done\n",
      "Page 9 done\n",
      "Page 10 done\n",
      "Page 11 done\n",
      "Page 12 done\n",
      "Page 13 done\n",
      "Page 14 done\n",
      "Page 15 done\n",
      "Page 16 done\n",
      "Page 17 done\n",
      "Page 18 done\n",
      "Page 19 done\n",
      "Page 20 done\n",
      "Page 21 done\n",
      "Page 22 done\n",
      "Page 23 done\n",
      "Page 24 done\n",
      "Page 25 done\n",
      "Page 26 done\n",
      "Page 27 done\n",
      "Page 28 done\n",
      "Page 29 done\n",
      "Page 30 done\n",
      "Page 31 done\n",
      "Page 32 done\n",
      "Page 33 done\n",
      "Page 34 done\n",
      "Page 35 done\n",
      "Page 36 done\n",
      "Page 37 done\n",
      "Page 38 done\n"
     ]
    },
    {
     "ename": "KeyboardInterrupt",
     "evalue": "",
     "output_type": "error",
     "traceback": [
      "\u001b[1;31m---------------------------------------------------------------------------\u001b[0m",
      "\u001b[1;31mKeyboardInterrupt\u001b[0m                         Traceback (most recent call last)",
      "Cell \u001b[1;32mIn[6], line 7\u001b[0m\n\u001b[0;32m      3\u001b[0m file_names \u001b[39m=\u001b[39m [\u001b[39m'\u001b[39m\u001b[39m_tesla.csv\u001b[39m\u001b[39m'\u001b[39m, \u001b[39m'\u001b[39m\u001b[39m_ebikes.csv\u001b[39m\u001b[39m'\u001b[39m, \u001b[39m'\u001b[39m\u001b[39m_solar.csv\u001b[39m\u001b[39m'\u001b[39m]\n\u001b[0;32m      6\u001b[0m \u001b[39mfor\u001b[39;00m i \u001b[39min\u001b[39;00m \u001b[39mrange\u001b[39m(\u001b[39m3\u001b[39m):\n\u001b[1;32m----> 7\u001b[0m     df \u001b[39m=\u001b[39m getDfFromCategory(categories[i])\n\u001b[0;32m      8\u001b[0m     df\u001b[39m.\u001b[39mto_csv(file_names[i], index\u001b[39m=\u001b[39m\u001b[39mFalse\u001b[39;00m)\n\u001b[0;32m     11\u001b[0m \u001b[39m# df = getDfFromCategory('tesla')\u001b[39;00m\n",
      "Cell \u001b[1;32mIn[5], line 12\u001b[0m, in \u001b[0;36mgetDfFromCategory\u001b[1;34m(category)\u001b[0m\n\u001b[0;32m      9\u001b[0m links \u001b[39m=\u001b[39m get_links(\u001b[39m'\u001b[39m\u001b[39mhttps://electrek.co/guides/\u001b[39m\u001b[39m'\u001b[39m \u001b[39m+\u001b[39m category \u001b[39m+\u001b[39m \u001b[39m'\u001b[39m\u001b[39m/page/\u001b[39m\u001b[39m'\u001b[39m \u001b[39m+\u001b[39m \u001b[39mstr\u001b[39m(i) \u001b[39m+\u001b[39m \u001b[39m'\u001b[39m\u001b[39m/\u001b[39m\u001b[39m'\u001b[39m)\n\u001b[0;32m     10\u001b[0m \u001b[39mfor\u001b[39;00m link \u001b[39min\u001b[39;00m links:\n\u001b[0;32m     11\u001b[0m     \u001b[39m#get the html page\u001b[39;00m\n\u001b[1;32m---> 12\u001b[0m     response \u001b[39m=\u001b[39m requests\u001b[39m.\u001b[39;49mget(link)\n\u001b[0;32m     13\u001b[0m     soup \u001b[39m=\u001b[39m BeautifulSoup(response\u001b[39m.\u001b[39mcontent, \u001b[39m'\u001b[39m\u001b[39mhtml.parser\u001b[39m\u001b[39m'\u001b[39m)\n\u001b[0;32m     15\u001b[0m     content \u001b[39m=\u001b[39m parse_article_content(soup)\n",
      "File \u001b[1;32mc:\\Users\\grego\\OneDrive\\Desktop\\nlp\\Eletrek-article-classifier\\.conda\\lib\\site-packages\\requests\\api.py:73\u001b[0m, in \u001b[0;36mget\u001b[1;34m(url, params, **kwargs)\u001b[0m\n\u001b[0;32m     62\u001b[0m \u001b[39mdef\u001b[39;00m \u001b[39mget\u001b[39m(url, params\u001b[39m=\u001b[39m\u001b[39mNone\u001b[39;00m, \u001b[39m*\u001b[39m\u001b[39m*\u001b[39mkwargs):\n\u001b[0;32m     63\u001b[0m \u001b[39m    \u001b[39m\u001b[39mr\u001b[39m\u001b[39m\"\"\"Sends a GET request.\u001b[39;00m\n\u001b[0;32m     64\u001b[0m \n\u001b[0;32m     65\u001b[0m \u001b[39m    :param url: URL for the new :class:`Request` object.\u001b[39;00m\n\u001b[1;32m   (...)\u001b[0m\n\u001b[0;32m     70\u001b[0m \u001b[39m    :rtype: requests.Response\u001b[39;00m\n\u001b[0;32m     71\u001b[0m \u001b[39m    \"\"\"\u001b[39;00m\n\u001b[1;32m---> 73\u001b[0m     \u001b[39mreturn\u001b[39;00m request(\u001b[39m\"\u001b[39m\u001b[39mget\u001b[39m\u001b[39m\"\u001b[39m, url, params\u001b[39m=\u001b[39mparams, \u001b[39m*\u001b[39m\u001b[39m*\u001b[39mkwargs)\n",
      "File \u001b[1;32mc:\\Users\\grego\\OneDrive\\Desktop\\nlp\\Eletrek-article-classifier\\.conda\\lib\\site-packages\\requests\\api.py:59\u001b[0m, in \u001b[0;36mrequest\u001b[1;34m(method, url, **kwargs)\u001b[0m\n\u001b[0;32m     55\u001b[0m \u001b[39m# By using the 'with' statement we are sure the session is closed, thus we\u001b[39;00m\n\u001b[0;32m     56\u001b[0m \u001b[39m# avoid leaving sockets open which can trigger a ResourceWarning in some\u001b[39;00m\n\u001b[0;32m     57\u001b[0m \u001b[39m# cases, and look like a memory leak in others.\u001b[39;00m\n\u001b[0;32m     58\u001b[0m \u001b[39mwith\u001b[39;00m sessions\u001b[39m.\u001b[39mSession() \u001b[39mas\u001b[39;00m session:\n\u001b[1;32m---> 59\u001b[0m     \u001b[39mreturn\u001b[39;00m session\u001b[39m.\u001b[39mrequest(method\u001b[39m=\u001b[39mmethod, url\u001b[39m=\u001b[39murl, \u001b[39m*\u001b[39m\u001b[39m*\u001b[39mkwargs)\n",
      "File \u001b[1;32mc:\\Users\\grego\\OneDrive\\Desktop\\nlp\\Eletrek-article-classifier\\.conda\\lib\\site-packages\\requests\\sessions.py:587\u001b[0m, in \u001b[0;36mSession.request\u001b[1;34m(self, method, url, params, data, headers, cookies, files, auth, timeout, allow_redirects, proxies, hooks, stream, verify, cert, json)\u001b[0m\n\u001b[0;32m    582\u001b[0m send_kwargs \u001b[39m=\u001b[39m {\n\u001b[0;32m    583\u001b[0m     \u001b[39m\"\u001b[39m\u001b[39mtimeout\u001b[39m\u001b[39m\"\u001b[39m: timeout,\n\u001b[0;32m    584\u001b[0m     \u001b[39m\"\u001b[39m\u001b[39mallow_redirects\u001b[39m\u001b[39m\"\u001b[39m: allow_redirects,\n\u001b[0;32m    585\u001b[0m }\n\u001b[0;32m    586\u001b[0m send_kwargs\u001b[39m.\u001b[39mupdate(settings)\n\u001b[1;32m--> 587\u001b[0m resp \u001b[39m=\u001b[39m \u001b[39mself\u001b[39m\u001b[39m.\u001b[39msend(prep, \u001b[39m*\u001b[39m\u001b[39m*\u001b[39msend_kwargs)\n\u001b[0;32m    589\u001b[0m \u001b[39mreturn\u001b[39;00m resp\n",
      "File \u001b[1;32mc:\\Users\\grego\\OneDrive\\Desktop\\nlp\\Eletrek-article-classifier\\.conda\\lib\\site-packages\\requests\\sessions.py:745\u001b[0m, in \u001b[0;36mSession.send\u001b[1;34m(self, request, **kwargs)\u001b[0m\n\u001b[0;32m    742\u001b[0m         \u001b[39mpass\u001b[39;00m\n\u001b[0;32m    744\u001b[0m \u001b[39mif\u001b[39;00m \u001b[39mnot\u001b[39;00m stream:\n\u001b[1;32m--> 745\u001b[0m     r\u001b[39m.\u001b[39;49mcontent\n\u001b[0;32m    747\u001b[0m \u001b[39mreturn\u001b[39;00m r\n",
      "File \u001b[1;32mc:\\Users\\grego\\OneDrive\\Desktop\\nlp\\Eletrek-article-classifier\\.conda\\lib\\site-packages\\requests\\models.py:899\u001b[0m, in \u001b[0;36mResponse.content\u001b[1;34m(self)\u001b[0m\n\u001b[0;32m    897\u001b[0m         \u001b[39mself\u001b[39m\u001b[39m.\u001b[39m_content \u001b[39m=\u001b[39m \u001b[39mNone\u001b[39;00m\n\u001b[0;32m    898\u001b[0m     \u001b[39melse\u001b[39;00m:\n\u001b[1;32m--> 899\u001b[0m         \u001b[39mself\u001b[39m\u001b[39m.\u001b[39m_content \u001b[39m=\u001b[39m \u001b[39mb\u001b[39;49m\u001b[39m\"\u001b[39;49m\u001b[39m\"\u001b[39;49m\u001b[39m.\u001b[39;49mjoin(\u001b[39mself\u001b[39;49m\u001b[39m.\u001b[39;49miter_content(CONTENT_CHUNK_SIZE)) \u001b[39mor\u001b[39;00m \u001b[39mb\u001b[39m\u001b[39m\"\u001b[39m\u001b[39m\"\u001b[39m\n\u001b[0;32m    901\u001b[0m \u001b[39mself\u001b[39m\u001b[39m.\u001b[39m_content_consumed \u001b[39m=\u001b[39m \u001b[39mTrue\u001b[39;00m\n\u001b[0;32m    902\u001b[0m \u001b[39m# don't need to release the connection; that's been handled by urllib3\u001b[39;00m\n\u001b[0;32m    903\u001b[0m \u001b[39m# since we exhausted the data.\u001b[39;00m\n",
      "File \u001b[1;32mc:\\Users\\grego\\OneDrive\\Desktop\\nlp\\Eletrek-article-classifier\\.conda\\lib\\site-packages\\requests\\models.py:816\u001b[0m, in \u001b[0;36mResponse.iter_content.<locals>.generate\u001b[1;34m()\u001b[0m\n\u001b[0;32m    814\u001b[0m \u001b[39mif\u001b[39;00m \u001b[39mhasattr\u001b[39m(\u001b[39mself\u001b[39m\u001b[39m.\u001b[39mraw, \u001b[39m\"\u001b[39m\u001b[39mstream\u001b[39m\u001b[39m\"\u001b[39m):\n\u001b[0;32m    815\u001b[0m     \u001b[39mtry\u001b[39;00m:\n\u001b[1;32m--> 816\u001b[0m         \u001b[39myield from\u001b[39;00m \u001b[39mself\u001b[39m\u001b[39m.\u001b[39mraw\u001b[39m.\u001b[39mstream(chunk_size, decode_content\u001b[39m=\u001b[39m\u001b[39mTrue\u001b[39;00m)\n\u001b[0;32m    817\u001b[0m     \u001b[39mexcept\u001b[39;00m ProtocolError \u001b[39mas\u001b[39;00m e:\n\u001b[0;32m    818\u001b[0m         \u001b[39mraise\u001b[39;00m ChunkedEncodingError(e)\n",
      "File \u001b[1;32mc:\\Users\\grego\\OneDrive\\Desktop\\nlp\\Eletrek-article-classifier\\.conda\\lib\\site-packages\\urllib3\\response.py:624\u001b[0m, in \u001b[0;36mHTTPResponse.stream\u001b[1;34m(self, amt, decode_content)\u001b[0m\n\u001b[0;32m    608\u001b[0m \u001b[39m\u001b[39m\u001b[39m\"\"\"\u001b[39;00m\n\u001b[0;32m    609\u001b[0m \u001b[39mA generator wrapper for the read() method. A call will block until\u001b[39;00m\n\u001b[0;32m    610\u001b[0m \u001b[39m``amt`` bytes have been read from the connection or until the\u001b[39;00m\n\u001b[1;32m   (...)\u001b[0m\n\u001b[0;32m    621\u001b[0m \u001b[39m    'content-encoding' header.\u001b[39;00m\n\u001b[0;32m    622\u001b[0m \u001b[39m\"\"\"\u001b[39;00m\n\u001b[0;32m    623\u001b[0m \u001b[39mif\u001b[39;00m \u001b[39mself\u001b[39m\u001b[39m.\u001b[39mchunked \u001b[39mand\u001b[39;00m \u001b[39mself\u001b[39m\u001b[39m.\u001b[39msupports_chunked_reads():\n\u001b[1;32m--> 624\u001b[0m     \u001b[39mfor\u001b[39;00m line \u001b[39min\u001b[39;00m \u001b[39mself\u001b[39m\u001b[39m.\u001b[39mread_chunked(amt, decode_content\u001b[39m=\u001b[39mdecode_content):\n\u001b[0;32m    625\u001b[0m         \u001b[39myield\u001b[39;00m line\n\u001b[0;32m    626\u001b[0m \u001b[39melse\u001b[39;00m:\n",
      "File \u001b[1;32mc:\\Users\\grego\\OneDrive\\Desktop\\nlp\\Eletrek-article-classifier\\.conda\\lib\\site-packages\\urllib3\\response.py:828\u001b[0m, in \u001b[0;36mHTTPResponse.read_chunked\u001b[1;34m(self, amt, decode_content)\u001b[0m\n\u001b[0;32m    825\u001b[0m     \u001b[39mreturn\u001b[39;00m\n\u001b[0;32m    827\u001b[0m \u001b[39mwhile\u001b[39;00m \u001b[39mTrue\u001b[39;00m:\n\u001b[1;32m--> 828\u001b[0m     \u001b[39mself\u001b[39;49m\u001b[39m.\u001b[39;49m_update_chunk_length()\n\u001b[0;32m    829\u001b[0m     \u001b[39mif\u001b[39;00m \u001b[39mself\u001b[39m\u001b[39m.\u001b[39mchunk_left \u001b[39m==\u001b[39m \u001b[39m0\u001b[39m:\n\u001b[0;32m    830\u001b[0m         \u001b[39mbreak\u001b[39;00m\n",
      "File \u001b[1;32mc:\\Users\\grego\\OneDrive\\Desktop\\nlp\\Eletrek-article-classifier\\.conda\\lib\\site-packages\\urllib3\\response.py:758\u001b[0m, in \u001b[0;36mHTTPResponse._update_chunk_length\u001b[1;34m(self)\u001b[0m\n\u001b[0;32m    756\u001b[0m \u001b[39mif\u001b[39;00m \u001b[39mself\u001b[39m\u001b[39m.\u001b[39mchunk_left \u001b[39mis\u001b[39;00m \u001b[39mnot\u001b[39;00m \u001b[39mNone\u001b[39;00m:\n\u001b[0;32m    757\u001b[0m     \u001b[39mreturn\u001b[39;00m\n\u001b[1;32m--> 758\u001b[0m line \u001b[39m=\u001b[39m \u001b[39mself\u001b[39;49m\u001b[39m.\u001b[39;49m_fp\u001b[39m.\u001b[39;49mfp\u001b[39m.\u001b[39;49mreadline()\n\u001b[0;32m    759\u001b[0m line \u001b[39m=\u001b[39m line\u001b[39m.\u001b[39msplit(\u001b[39mb\u001b[39m\u001b[39m\"\u001b[39m\u001b[39m;\u001b[39m\u001b[39m\"\u001b[39m, \u001b[39m1\u001b[39m)[\u001b[39m0\u001b[39m]\n\u001b[0;32m    760\u001b[0m \u001b[39mtry\u001b[39;00m:\n",
      "File \u001b[1;32mc:\\Users\\grego\\OneDrive\\Desktop\\nlp\\Eletrek-article-classifier\\.conda\\lib\\socket.py:705\u001b[0m, in \u001b[0;36mSocketIO.readinto\u001b[1;34m(self, b)\u001b[0m\n\u001b[0;32m    703\u001b[0m \u001b[39mwhile\u001b[39;00m \u001b[39mTrue\u001b[39;00m:\n\u001b[0;32m    704\u001b[0m     \u001b[39mtry\u001b[39;00m:\n\u001b[1;32m--> 705\u001b[0m         \u001b[39mreturn\u001b[39;00m \u001b[39mself\u001b[39;49m\u001b[39m.\u001b[39;49m_sock\u001b[39m.\u001b[39;49mrecv_into(b)\n\u001b[0;32m    706\u001b[0m     \u001b[39mexcept\u001b[39;00m timeout:\n\u001b[0;32m    707\u001b[0m         \u001b[39mself\u001b[39m\u001b[39m.\u001b[39m_timeout_occurred \u001b[39m=\u001b[39m \u001b[39mTrue\u001b[39;00m\n",
      "File \u001b[1;32mc:\\Users\\grego\\OneDrive\\Desktop\\nlp\\Eletrek-article-classifier\\.conda\\lib\\ssl.py:1274\u001b[0m, in \u001b[0;36mSSLSocket.recv_into\u001b[1;34m(self, buffer, nbytes, flags)\u001b[0m\n\u001b[0;32m   1270\u001b[0m     \u001b[39mif\u001b[39;00m flags \u001b[39m!=\u001b[39m \u001b[39m0\u001b[39m:\n\u001b[0;32m   1271\u001b[0m         \u001b[39mraise\u001b[39;00m \u001b[39mValueError\u001b[39;00m(\n\u001b[0;32m   1272\u001b[0m           \u001b[39m\"\u001b[39m\u001b[39mnon-zero flags not allowed in calls to recv_into() on \u001b[39m\u001b[39m%s\u001b[39;00m\u001b[39m\"\u001b[39m \u001b[39m%\u001b[39m\n\u001b[0;32m   1273\u001b[0m           \u001b[39mself\u001b[39m\u001b[39m.\u001b[39m\u001b[39m__class__\u001b[39m)\n\u001b[1;32m-> 1274\u001b[0m     \u001b[39mreturn\u001b[39;00m \u001b[39mself\u001b[39;49m\u001b[39m.\u001b[39;49mread(nbytes, buffer)\n\u001b[0;32m   1275\u001b[0m \u001b[39melse\u001b[39;00m:\n\u001b[0;32m   1276\u001b[0m     \u001b[39mreturn\u001b[39;00m \u001b[39msuper\u001b[39m()\u001b[39m.\u001b[39mrecv_into(buffer, nbytes, flags)\n",
      "File \u001b[1;32mc:\\Users\\grego\\OneDrive\\Desktop\\nlp\\Eletrek-article-classifier\\.conda\\lib\\ssl.py:1130\u001b[0m, in \u001b[0;36mSSLSocket.read\u001b[1;34m(self, len, buffer)\u001b[0m\n\u001b[0;32m   1128\u001b[0m \u001b[39mtry\u001b[39;00m:\n\u001b[0;32m   1129\u001b[0m     \u001b[39mif\u001b[39;00m buffer \u001b[39mis\u001b[39;00m \u001b[39mnot\u001b[39;00m \u001b[39mNone\u001b[39;00m:\n\u001b[1;32m-> 1130\u001b[0m         \u001b[39mreturn\u001b[39;00m \u001b[39mself\u001b[39;49m\u001b[39m.\u001b[39;49m_sslobj\u001b[39m.\u001b[39;49mread(\u001b[39mlen\u001b[39;49m, buffer)\n\u001b[0;32m   1131\u001b[0m     \u001b[39melse\u001b[39;00m:\n\u001b[0;32m   1132\u001b[0m         \u001b[39mreturn\u001b[39;00m \u001b[39mself\u001b[39m\u001b[39m.\u001b[39m_sslobj\u001b[39m.\u001b[39mread(\u001b[39mlen\u001b[39m)\n",
      "\u001b[1;31mKeyboardInterrupt\u001b[0m: "
     ]
    }
   ],
   "source": [
    "categories = ['tesla', 'ebikes', 'egeb']\n",
    "file_names = ['tesla.csv', 'ebikes.csv', 'solar.csv']\n",
    "\n",
    "\n",
    "for i in range(3):\n",
    "    df = getDfFromCategory(categories[i])\n",
    "    df.to_csv(file_names[i], index=False)"
   ]
  }
 ],
 "metadata": {
  "kernelspec": {
   "display_name": "Python 3",
   "language": "python",
   "name": "python3"
  },
  "language_info": {
   "codemirror_mode": {
    "name": "ipython",
    "version": 3
   },
   "file_extension": ".py",
   "mimetype": "text/x-python",
   "name": "python",
   "nbconvert_exporter": "python",
   "pygments_lexer": "ipython3",
   "version": "3.10.9"
  },
  "orig_nbformat": 4
 },
 "nbformat": 4,
 "nbformat_minor": 2
}
