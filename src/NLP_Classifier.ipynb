{
 "cells": [
  {
   "attachments": {},
   "cell_type": "markdown",
   "metadata": {},
   "source": [
    "# Data Cleansing"
   ]
  },
  {
   "cell_type": "code",
   "execution_count": 2,
   "metadata": {},
   "outputs": [],
   "source": [
    "# !pip install tensorflow\n",
    "# !pip install tensorflow==2.12.0\n",
    "# !pip install matplotlib"
   ]
  },
  {
   "cell_type": "code",
   "execution_count": 1,
   "metadata": {},
   "outputs": [],
   "source": [
    "import pandas as pd\n",
    "import matplotlib.pyplot as plt\n",
    "import numpy as np\n",
    "import re\n",
    "import sklearn\n",
    "from sklearn.feature_extraction.text import CountVectorizer, TfidfVectorizer\n",
    "from sklearn.model_selection import train_test_split\n",
    "from sklearn.linear_model import LogisticRegression\n",
    "from sklearn.naive_bayes import MultinomialNB\n",
    "from sklearn.metrics import classification_report\n",
    "from sklearn.pipeline import make_pipeline\n",
    "from sklearn.preprocessing import StandardScaler, LabelEncoder\n",
    "import tensorflow as tf\n",
    "from tensorflow import keras\n",
    "from keras.callbacks import EarlyStopping\n",
    "from keras.models import Sequential\n",
    "from keras.layers import Embedding, LSTM, GRU, Dense, Bidirectional, Dropout\n",
    "from scipy.sparse import csr_matrix\n",
    "from keras.preprocessing.text import Tokenizer\n",
    "from tensorflow.keras.preprocessing.sequence import pad_sequences"
   ]
  },
  {
   "cell_type": "code",
   "execution_count": null,
   "metadata": {},
   "outputs": [],
   "source": []
  },
  {
   "cell_type": "code",
   "execution_count": 4,
   "metadata": {},
   "outputs": [],
   "source": [
    "import csv\n",
    "\n",
    "# Function to write dataframe to csv file\n",
    "def saveToCsv(fileName, df):\n",
    "    with open(f'../data/{fileName}.csv', 'w', encoding='UTF8', newline='') as f:\n",
    "        writer = csv.writer(f)\n",
    "        writer.writerow(df.columns)\n",
    "        writer.writerows(df.values)"
   ]
  },
  {
   "cell_type": "code",
   "execution_count": 2,
   "metadata": {},
   "outputs": [],
   "source": [
    "# Read in data from csv files\n",
    "solar = pd.read_csv('../data/solar.csv')\n",
    "ebikes = pd.read_csv('../data/ebikes.csv')\n",
    "tesla = pd.read_csv('../data/tesla.csv')"
   ]
  },
  {
   "cell_type": "code",
   "execution_count": 3,
   "metadata": {},
   "outputs": [
    {
     "name": "stderr",
     "output_type": "stream",
     "text": [
      "C:\\Users\\grego\\AppData\\Local\\Temp\\ipykernel_16704\\1301546108.py:2: FutureWarning: The default value of regex will change from True to False in a future version.\n",
      "  ebikes['content'] = ebikes['content'].str.replace(r\"\\n\", \"\")\n",
      "C:\\Users\\grego\\AppData\\Local\\Temp\\ipykernel_16704\\1301546108.py:3: FutureWarning: The default value of regex will change from True to False in a future version.\n",
      "  ebikes['content'] = ebikes['content'].str.replace(r\"\\r\", \"\")\n",
      "C:\\Users\\grego\\AppData\\Local\\Temp\\ipykernel_16704\\1301546108.py:4: FutureWarning: The default value of regex will change from True to False in a future version.\n",
      "  solar['content'] = solar['content'].str.replace(r\"\\n\", \"\")\n",
      "C:\\Users\\grego\\AppData\\Local\\Temp\\ipykernel_16704\\1301546108.py:5: FutureWarning: The default value of regex will change from True to False in a future version.\n",
      "  solar['content'] = solar['content'].str.replace(r\"\\r\", \"\")\n",
      "C:\\Users\\grego\\AppData\\Local\\Temp\\ipykernel_16704\\1301546108.py:6: FutureWarning: The default value of regex will change from True to False in a future version.\n",
      "  tesla['content'] = tesla['content'].str.replace(r\"\\n\", \"\")\n",
      "C:\\Users\\grego\\AppData\\Local\\Temp\\ipykernel_16704\\1301546108.py:7: FutureWarning: The default value of regex will change from True to False in a future version.\n",
      "  tesla['content'] = tesla['content'].str.replace(r\"\\r\", \"\")\n"
     ]
    }
   ],
   "source": [
    "# Remove new line characters\n",
    "ebikes['content'] = ebikes['content'].str.replace(r\"\\n\", \"\")\n",
    "ebikes['content'] = ebikes['content'].str.replace(r\"\\r\", \"\")\n",
    "solar['content'] = solar['content'].str.replace(r\"\\n\", \"\")\n",
    "solar['content'] = solar['content'].str.replace(r\"\\r\", \"\")\n",
    "tesla['content'] = tesla['content'].str.replace(r\"\\n\", \"\")\n",
    "tesla['content'] = tesla['content'].str.replace(r\"\\r\", \"\")"
   ]
  },
  {
   "cell_type": "code",
   "execution_count": 4,
   "metadata": {},
   "outputs": [],
   "source": [
    "# Add labels to data\n",
    "solar['label'] = 'solar'\n",
    "ebikes['label'] = 'ebikes'\n",
    "tesla['label'] = 'tesla'"
   ]
  },
  {
   "cell_type": "code",
   "execution_count": 5,
   "metadata": {},
   "outputs": [
    {
     "name": "stdout",
     "output_type": "stream",
     "text": [
      "len(solar) = 1204, len(ebikes) = 1032, len(tesla) = 1202\n",
      "len(solar) = 1032, len(ebikes) = 1032, len(tesla) = 1032\n"
     ]
    }
   ],
   "source": [
    "# Print lenght of the datasets\n",
    "print(f'len(solar) = {len(solar)}, len(ebikes) = {len(ebikes)}, len(tesla) = {len(tesla)}')\n",
    "\n",
    "# Take first 1032 rows of the solar and Tesla datasets (to have the same number of rows as the ebikes dataset)\n",
    "\n",
    "\n",
    "# Take same number of rows from the datasets\n",
    "min_len = min(len(solar), len(ebikes), len(tesla))\n",
    "solar = solar.head(min_len)\n",
    "ebikes = ebikes.head(min_len)\n",
    "tesla = tesla.head(min_len)\n",
    "print(f'len(solar) = {len(solar)}, len(ebikes) = {len(ebikes)}, len(tesla) = {len(tesla)}')"
   ]
  },
  {
   "attachments": {},
   "cell_type": "markdown",
   "metadata": {},
   "source": [
    "# Classification Models"
   ]
  },
  {
   "attachments": {},
   "cell_type": "markdown",
   "metadata": {},
   "source": [
    "### Naive Bayes with Count Vectorizer"
   ]
  },
  {
   "cell_type": "code",
   "execution_count": 18,
   "metadata": {},
   "outputs": [],
   "source": [
    "# Split the data into train and test sets (80% for training and 20% for testing)\n",
    "solar_train, solar_test = train_test_split(solar, test_size=0.2, random_state=42)\n",
    "ebikes_train, ebikes_test = train_test_split(ebikes, test_size=0.2, random_state=42)\n",
    "tesla_train, tesla_test = train_test_split(tesla, test_size=0.2, random_state=42)"
   ]
  },
  {
   "cell_type": "code",
   "execution_count": 19,
   "metadata": {},
   "outputs": [],
   "source": [
    "# Join the sets for train and test\n",
    "train = pd.concat([solar_train, ebikes_train, tesla_train]).reset_index(drop=True)\n",
    "test = pd.concat([solar_test, ebikes_test, tesla_test]).reset_index(drop=True)"
   ]
  },
  {
   "cell_type": "code",
   "execution_count": 20,
   "metadata": {},
   "outputs": [],
   "source": [
    "# Extract the content and label columns from the dataframes\n",
    "train_data = train[\"content\"].values\n",
    "train_labels = train[\"label\"].values\n",
    "test_data = test[\"content\"].values\n",
    "test_labels = test[\"label\"].values\n",
    "\n",
    "target_names = ['ebikes', 'solar', 'tesla']\n"
   ]
  },
  {
   "cell_type": "code",
   "execution_count": 12,
   "metadata": {},
   "outputs": [
    {
     "name": "stdout",
     "output_type": "stream",
     "text": [
      "              precision    recall  f1-score   support\n",
      "\n",
      "      ebikes       1.00      0.99      1.00       207\n",
      "       solar       0.97      1.00      0.98       207\n",
      "       tesla       1.00      0.98      0.99       207\n",
      "\n",
      "    accuracy                           0.99       621\n",
      "   macro avg       0.99      0.99      0.99       621\n",
      "weighted avg       0.99      0.99      0.99       621\n",
      "\n"
     ]
    }
   ],
   "source": [
    "# Conversione of texts into features\n",
    "count_vect = CountVectorizer()\n",
    "X_train_counts = count_vect.fit_transform(train_data)\n",
    "test_features = count_vect.transform(test_data)\n",
    "\n",
    "# Training \n",
    "classifier = MultinomialNB()\n",
    "classifier.fit(X_train_counts, train_labels)\n",
    "\n",
    "# Test\n",
    "predictions = classifier.predict(test_features)\n",
    "\n",
    "print(classification_report(test_labels, predictions, target_names=target_names))"
   ]
  },
  {
   "cell_type": "code",
   "execution_count": 13,
   "metadata": {},
   "outputs": [
    {
     "name": "stdout",
     "output_type": "stream",
     "text": [
      "              precision    recall  f1-score   support\n",
      "\n",
      "      ebikes       1.00      1.00      1.00       207\n",
      "       solar       0.98      1.00      0.99       207\n",
      "       tesla       1.00      0.98      0.99       207\n",
      "\n",
      "    accuracy                           0.99       621\n",
      "   macro avg       0.99      0.99      0.99       621\n",
      "weighted avg       0.99      0.99      0.99       621\n",
      "\n"
     ]
    },
    {
     "name": "stderr",
     "output_type": "stream",
     "text": [
      "c:\\Users\\grego\\OneDrive\\Desktop\\nlp\\Eletrek-article-classifier\\.conda\\lib\\site-packages\\sklearn\\linear_model\\_logistic.py:458: ConvergenceWarning: lbfgs failed to converge (status=1):\n",
      "STOP: TOTAL NO. of ITERATIONS REACHED LIMIT.\n",
      "\n",
      "Increase the number of iterations (max_iter) or scale the data as shown in:\n",
      "    https://scikit-learn.org/stable/modules/preprocessing.html\n",
      "Please also refer to the documentation for alternative solver options:\n",
      "    https://scikit-learn.org/stable/modules/linear_model.html#logistic-regression\n",
      "  n_iter_i = _check_optimize_result(\n"
     ]
    }
   ],
   "source": [
    "count_vect = CountVectorizer()\n",
    "X_train_counts = count_vect.fit_transform(train_data)\n",
    "test_features = count_vect.transform(test_data)\n",
    "\n",
    "pipeline = make_pipeline(StandardScaler(with_mean=False), LogisticRegression())\n",
    "\n",
    "# Training \n",
    "pipeline.fit(X_train_counts, train_labels)\n",
    "\n",
    "# Test\n",
    "predictions = pipeline.predict(test_features)\n",
    "\n",
    "print(classification_report(test_labels, predictions, target_names=target_names))"
   ]
  },
  {
   "cell_type": "code",
   "execution_count": 14,
   "metadata": {},
   "outputs": [
    {
     "name": "stdout",
     "output_type": "stream",
     "text": [
      "              precision    recall  f1-score   support\n",
      "\n",
      "      ebikes       1.00      0.99      0.99       207\n",
      "       solar       0.96      1.00      0.98       207\n",
      "       tesla       1.00      0.97      0.98       207\n",
      "\n",
      "    accuracy                           0.99       621\n",
      "   macro avg       0.99      0.99      0.99       621\n",
      "weighted avg       0.99      0.99      0.99       621\n",
      "\n"
     ]
    }
   ],
   "source": [
    "# Conversione of texts into features\n",
    "count_vect = TfidfVectorizer(max_features=2000)\n",
    "X_train_counts = count_vect.fit_transform(train_data)\n",
    "test_features = count_vect.transform(test_data)\n",
    "\n",
    "# Training \n",
    "classifier = MultinomialNB()\n",
    "classifier.fit(X_train_counts, train_labels)\n",
    "\n",
    "# Test\n",
    "predictions = classifier.predict(test_features)\n",
    "\n",
    "print(classification_report(test_labels, predictions, target_names=target_names))"
   ]
  },
  {
   "cell_type": "code",
   "execution_count": 15,
   "metadata": {},
   "outputs": [
    {
     "name": "stdout",
     "output_type": "stream",
     "text": [
      "              precision    recall  f1-score   support\n",
      "\n",
      "      ebikes       1.00      1.00      1.00       207\n",
      "       solar       0.98      1.00      0.99       207\n",
      "       tesla       0.99      0.98      0.99       207\n",
      "\n",
      "    accuracy                           0.99       621\n",
      "   macro avg       0.99      0.99      0.99       621\n",
      "weighted avg       0.99      0.99      0.99       621\n",
      "\n"
     ]
    },
    {
     "name": "stderr",
     "output_type": "stream",
     "text": [
      "c:\\Users\\grego\\OneDrive\\Desktop\\nlp\\Eletrek-article-classifier\\.conda\\lib\\site-packages\\sklearn\\linear_model\\_logistic.py:458: ConvergenceWarning: lbfgs failed to converge (status=1):\n",
      "STOP: TOTAL NO. of ITERATIONS REACHED LIMIT.\n",
      "\n",
      "Increase the number of iterations (max_iter) or scale the data as shown in:\n",
      "    https://scikit-learn.org/stable/modules/preprocessing.html\n",
      "Please also refer to the documentation for alternative solver options:\n",
      "    https://scikit-learn.org/stable/modules/linear_model.html#logistic-regression\n",
      "  n_iter_i = _check_optimize_result(\n"
     ]
    }
   ],
   "source": [
    "# Conversione of texts into features\n",
    "count_vect = CountVectorizer()\n",
    "X_train_counts = count_vect.fit_transform(train_data)\n",
    "test_features = count_vect.transform(test_data)\n",
    "\n",
    "# Training \n",
    "classifier = LogisticRegression()\n",
    "classifier.fit(X_train_counts, train_labels)\n",
    "\n",
    "# Test\n",
    "predictions = classifier.predict(test_features)\n",
    "\n",
    "print(classification_report(test_labels, predictions, target_names=target_names))"
   ]
  },
  {
   "cell_type": "code",
   "execution_count": 16,
   "metadata": {},
   "outputs": [
    {
     "name": "stdout",
     "output_type": "stream",
     "text": [
      "              precision    recall  f1-score   support\n",
      "\n",
      "      ebikes       1.00      0.99      0.99       207\n",
      "       solar       0.97      1.00      0.98       207\n",
      "       tesla       0.99      0.98      0.98       207\n",
      "\n",
      "    accuracy                           0.99       621\n",
      "   macro avg       0.99      0.99      0.99       621\n",
      "weighted avg       0.99      0.99      0.99       621\n",
      "\n"
     ]
    }
   ],
   "source": [
    "# Conversione of texts into features\n",
    "count_vect = TfidfVectorizer(max_features=2000)\n",
    "X_train_counts = count_vect.fit_transform(train_data)\n",
    "test_features = count_vect.transform(test_data)\n",
    "\n",
    "# Training \n",
    "classifier = LogisticRegression()\n",
    "classifier.fit(X_train_counts, train_labels)\n",
    "\n",
    "# Test\n",
    "predictions = classifier.predict(test_features)\n",
    "\n",
    "print(classification_report(test_labels, predictions, target_names=target_names))"
   ]
  },
  {
   "cell_type": "code",
   "execution_count": 17,
   "metadata": {},
   "outputs": [
    {
     "name": "stdout",
     "output_type": "stream",
     "text": [
      "Epoch 1/20\n",
      "124/124 [==============================] - 2s 6ms/step - loss: 0.5183 - accuracy: 0.9303 - val_loss: 0.1345 - val_accuracy: 0.9960\n",
      "Epoch 2/20\n",
      "124/124 [==============================] - 1s 6ms/step - loss: 0.0733 - accuracy: 0.9949 - val_loss: 0.0436 - val_accuracy: 0.9980\n",
      "Epoch 3/20\n",
      "124/124 [==============================] - 1s 7ms/step - loss: 0.0286 - accuracy: 0.9980 - val_loss: 0.0245 - val_accuracy: 0.9960\n",
      "Epoch 4/20\n",
      "124/124 [==============================] - 1s 4ms/step - loss: 0.0158 - accuracy: 0.9995 - val_loss: 0.0174 - val_accuracy: 1.0000\n",
      "Epoch 5/20\n",
      "124/124 [==============================] - 0s 3ms/step - loss: 0.0105 - accuracy: 0.9995 - val_loss: 0.0130 - val_accuracy: 0.9980\n",
      "Epoch 6/20\n",
      "124/124 [==============================] - 0s 3ms/step - loss: 0.0081 - accuracy: 0.9995 - val_loss: 0.0103 - val_accuracy: 1.0000\n",
      "Epoch 7/20\n",
      "124/124 [==============================] - 0s 2ms/step - loss: 0.0065 - accuracy: 0.9995 - val_loss: 0.0092 - val_accuracy: 0.9980\n",
      "Epoch 8/20\n",
      "124/124 [==============================] - 0s 2ms/step - loss: 0.0059 - accuracy: 0.9995 - val_loss: 0.0079 - val_accuracy: 1.0000\n",
      "Epoch 9/20\n",
      "124/124 [==============================] - 0s 2ms/step - loss: 0.0051 - accuracy: 0.9995 - val_loss: 0.0074 - val_accuracy: 0.9980\n",
      "Epoch 10/20\n",
      "124/124 [==============================] - 0s 2ms/step - loss: 0.0048 - accuracy: 0.9995 - val_loss: 0.0068 - val_accuracy: 0.9980\n",
      "Epoch 11/20\n",
      "124/124 [==============================] - 0s 2ms/step - loss: 0.0045 - accuracy: 0.9995 - val_loss: 0.0063 - val_accuracy: 0.9980\n",
      "Epoch 12/20\n",
      "124/124 [==============================] - 0s 3ms/step - loss: 0.0042 - accuracy: 0.9995 - val_loss: 0.0063 - val_accuracy: 0.9980\n",
      "Epoch 13/20\n",
      "124/124 [==============================] - 0s 3ms/step - loss: 0.0040 - accuracy: 0.9995 - val_loss: 0.0057 - val_accuracy: 0.9980\n",
      "Epoch 14/20\n",
      "124/124 [==============================] - 0s 3ms/step - loss: 0.0037 - accuracy: 0.9995 - val_loss: 0.0057 - val_accuracy: 1.0000\n",
      "Epoch 15/20\n",
      "124/124 [==============================] - 0s 2ms/step - loss: 0.0040 - accuracy: 0.9995 - val_loss: 0.0056 - val_accuracy: 0.9980\n",
      "Epoch 16/20\n",
      "124/124 [==============================] - 0s 2ms/step - loss: 0.0035 - accuracy: 0.9995 - val_loss: 0.0050 - val_accuracy: 1.0000\n",
      "Epoch 17/20\n",
      "124/124 [==============================] - 0s 2ms/step - loss: 0.0037 - accuracy: 0.9995 - val_loss: 0.0059 - val_accuracy: 0.9980\n",
      "Epoch 18/20\n",
      "124/124 [==============================] - 0s 3ms/step - loss: 0.0036 - accuracy: 0.9995 - val_loss: 0.0059 - val_accuracy: 0.9980\n",
      "Test accuracy: 98.87%\n",
      "20/20 [==============================] - 0s 2ms/step\n",
      "              precision    recall  f1-score   support\n",
      "\n",
      "           0       1.00      1.00      1.00       207\n",
      "           1       0.98      0.99      0.98       207\n",
      "           2       1.00      0.98      0.99       207\n",
      "\n",
      "    accuracy                           0.99       621\n",
      "   macro avg       0.99      0.99      0.99       621\n",
      "weighted avg       0.99      0.99      0.99       621\n",
      "\n"
     ]
    }
   ],
   "source": [
    "training_features = train_data\n",
    "test_features = test_data\n",
    "training_labels = train_labels\n",
    "testing_labels = test_labels\n",
    "\n",
    "label_encoder = LabelEncoder()\n",
    "enc_training_labels = label_encoder.fit_transform(training_labels)\n",
    "enc_testing_labels = label_encoder.transform(testing_labels)\n",
    "\n",
    "# Conversione dei testi in features (TF-IDF)\n",
    "vectorizer = TfidfVectorizer(max_features=2000)\n",
    "training_features = vectorizer.fit_transform(training_features)\n",
    "test_features = vectorizer.transform(test_features)\n",
    "\n",
    "input_size = training_features.shape[1]  \n",
    "hidden_size = 8\n",
    "num_classes = len(target_names)\n",
    "num_epochs = 20\n",
    "batch_size = 16\n",
    "learning_rate = 0.01\n",
    "\n",
    "model = Sequential([\n",
    "    tf.keras.layers.Dense(hidden_size, input_shape=(input_size,), activation='sigmoid'),\n",
    "    tf.keras.layers.Dense(num_classes, activation='softmax')\n",
    "])\n",
    "\n",
    "\n",
    "dense_training_features = training_features.toarray()\n",
    "dense_test_features = test_features.toarray()\n",
    "\n",
    "X_train, X_val, y_train, y_val = train_test_split(dense_training_features, np.array(enc_training_labels), test_size=0.2, random_state=1492)\n",
    "\n",
    "early_stopping = EarlyStopping(monitor='val_loss', patience=2, restore_best_weights=True)\n",
    "\n",
    "model.compile(optimizer=tf.keras.optimizers.Adam(learning_rate=learning_rate),\n",
    "              loss='sparse_categorical_crossentropy',\n",
    "              metrics=['accuracy'])\n",
    "\n",
    "history = model.fit(\n",
    "    X_train,\n",
    "    y_train,\n",
    "    epochs=num_epochs,\n",
    "    batch_size=batch_size,\n",
    "    verbose=1,\n",
    "    validation_data=(X_val, y_val),\n",
    "    callbacks=[early_stopping]\n",
    ")\n",
    "\n",
    "\n",
    "_, test_accuracy = model.evaluate(dense_test_features, np.array(enc_testing_labels), verbose=0)\n",
    "print(f'Test accuracy: {100 * test_accuracy:.2f}%')\n",
    "\n",
    "y_pred = np.argmax(model.predict(dense_test_features), axis=1)\n",
    "# print(classification_report(enc_testing_labels, y_pred, labels = [0, 1, 2], target_names=target_names))\n",
    "print(classification_report(enc_testing_labels, y_pred))"
   ]
  },
  {
   "cell_type": "code",
   "execution_count": 9,
   "metadata": {},
   "outputs": [],
   "source": [
    "# Split the data into train and test sets (80% for training and 20% for testing)\n",
    "solar_train, solar_test = train_test_split(solar, test_size=0.2, random_state=42)\n",
    "ebikes_train, ebikes_test = train_test_split(ebikes, test_size=0.2, random_state=42)\n",
    "tesla_train, tesla_test = train_test_split(tesla, test_size=0.2, random_state=42)\n",
    "\n",
    "# Join the sets for train and test\n",
    "train = pd.concat([solar_train, ebikes_train, tesla_train], axis=0)\n",
    "test = pd.concat([solar_test, ebikes_test, tesla_test], axis=0)\n",
    "\n",
    "# Extract the content and label columns from the dataframes\n",
    "train_data = train[\"content\"].values\n",
    "train_labels = train[\"label\"].values\n",
    "test_data = test[\"content\"].values\n",
    "test_labels = test[\"label\"].values\n",
    "\n",
    "target_names = ['ebikes', 'solar', 'tesla']"
   ]
  },
  {
   "cell_type": "code",
   "execution_count": 21,
   "metadata": {},
   "outputs": [],
   "source": [
    "xx = pd.DataFrame({'data':train_data, 'labels':train_labels})\n",
    "\n",
    "reduced_data = pd.DataFrame()\n",
    "for l in target_names:\n",
    "    reduced_data = pd.concat([reduced_data, xx.loc[xx['labels']==l].sample(400)], axis=0)\n",
    "\n",
    "reduced_data = reduced_data.sample(frac=1)\n",
    "\n",
    "red_train_data = reduced_data[\"data\"].values\n",
    "red_train_labels = reduced_data[\"labels\"].values\n",
    "\n",
    "target_names = ['ebikes', 'solar', 'tesla']\n",
    "\n",
    "X_train_raw, X_test_raw, y_train_raw, y_test_raw = train_test_split(red_train_data, red_train_labels, test_size=0.2, random_state=42)\n",
    "# X_train_raw, X_test_raw, y_train_raw, y_test_raw = train_test_split(reduced_data.data, reduced_data.labels, test_size=0.2, random_state=42)\n",
    "\n",
    "tokenizer = Tokenizer(oov_token=\"<OOV>\")\n",
    "tokenizer.fit_on_texts(X_train_raw)\n",
    "\n",
    "X_train_sequences = tokenizer.texts_to_sequences(X_train_raw)\n",
    "X_test_sequences = tokenizer.texts_to_sequences(X_test_raw)\n",
    "\n",
    "# max_sequence_len = max([len(x) for x in X_train_sequences])\n",
    "max_sequence_len = 1024\n",
    "\n",
    "X_train_padded = pad_sequences(X_train_sequences, maxlen=max_sequence_len, padding='post')\n",
    "X_test_padded = pad_sequences(X_test_sequences, maxlen=max_sequence_len, padding='post')\n",
    "\n",
    "label_encoder = LabelEncoder()\n",
    "label_encoder = label_encoder.fit(target_names)\n",
    "y_train_encoded = label_encoder.transform(y_train_raw)\n",
    "y_test_encoded = label_encoder.transform(y_test_raw)\n",
    "num_classes = len(set(train_labels))\n",
    "total_words = len(tokenizer.word_index) + 1\n",
    "\n",
    "assert num_classes == len(target_names) "
   ]
  },
  {
   "cell_type": "code",
   "execution_count": 22,
   "metadata": {},
   "outputs": [
    {
     "data": {
      "text/plain": [
       "{\"0-['ebikes']\", \"1-['solar']\", \"2-['tesla']\"}"
      ]
     },
     "execution_count": 22,
     "metadata": {},
     "output_type": "execute_result"
    }
   ],
   "source": [
    "from math import ceil\n",
    "import random\n",
    "\n",
    "asd = set()\n",
    "for i in range(10):\n",
    "    index = ceil(random.uniform(0, 1) * len(X_train_sequences))\n",
    "    label = y_train_encoded[index]\n",
    "    decoded_label = label_encoder.inverse_transform([y_train_encoded[index]])\n",
    "    asd.add(f'{label}-{decoded_label}')\n",
    "    # print (label, decoded_label)\n",
    "asd"
   ]
  },
  {
   "cell_type": "code",
   "execution_count": 44,
   "metadata": {},
   "outputs": [],
   "source": [
    "tokenizer = Tokenizer(oov_token=\"<OOV>\")\n",
    "tokenizer.fit_on_texts(train_data)\n",
    "\n",
    "X_train_sequences = tokenizer.texts_to_sequences(train_data)\n",
    "X_test_sequences = tokenizer.texts_to_sequences(test_data)\n",
    "\n",
    "max_sequence_len = max([len(x) for x in X_train_sequences])\n",
    "max_sequence_len = 350\n",
    "\n",
    "X_train_padded = pad_sequences(X_train_sequences, maxlen=max_sequence_len, padding='post')\n",
    "X_test_padded = pad_sequences(X_test_sequences, maxlen=max_sequence_len, padding='post')\n",
    "\n",
    "label_encoder = LabelEncoder()\n",
    "y_train_encoded = label_encoder.fit_transform(train_labels)\n",
    "y_test_encoded = label_encoder.transform(test_labels)\n",
    "num_classes = len(set(train_labels))\n",
    "total_words = len(tokenizer.word_index) + 1\n",
    "\n",
    "assert num_classes == len(target_names) "
   ]
  },
  {
   "cell_type": "code",
   "execution_count": 11,
   "metadata": {},
   "outputs": [
    {
     "data": {
      "text/plain": [
       "(2475, 512, 38106)"
      ]
     },
     "execution_count": 11,
     "metadata": {},
     "output_type": "execute_result"
    }
   ],
   "source": [
    "len(X_train_sequences), max_sequence_len, total_words"
   ]
  },
  {
   "cell_type": "code",
   "execution_count": 39,
   "metadata": {},
   "outputs": [],
   "source": [
    "# max_sequence_len = 256, embedding_dim = 24, RNN_units = 16, Dropout(0.3), patience = 10, batch = 128 ==> .96\n",
    "# max_sequence_len = 256, embedding_dim = 24, RNN_units = 16, Dropout(0.3), patience = 10, batch = 100 ==> .97\n",
    "# max_sequence_len = 256, embedding_dim = 24, RNN_units = 18, Dropout(0.3), patience = 10, batch = 128 ==> .95\n",
    "# max_sequence_len = 256, embedding_dim = 24, RNN_units = 18, Dropout(0.3), patience = 10, batch = 100 ==> .95\n",
    "# max_sequence_len = 350, embedding_dim = 24, RNN_units = 18, Dropout(0.3), patience = 10, batch = 100 ==> .95"
   ]
  },
  {
   "cell_type": "code",
   "execution_count": 47,
   "metadata": {},
   "outputs": [
    {
     "name": "stdout",
     "output_type": "stream",
     "text": [
      "Model: \"sequential_14\"\n",
      "_________________________________________________________________\n",
      " Layer (type)                Output Shape              Param #   \n",
      "=================================================================\n",
      " embedding_14 (Embedding)    (None, 350, 24)           914544    \n",
      "                                                                 \n",
      " gru_26 (GRU)                (None, 350, 16)           1968      \n",
      "                                                                 \n",
      " gru_27 (GRU)                (None, 16)                1584      \n",
      "                                                                 \n",
      " dropout_14 (Dropout)        (None, 16)                0         \n",
      "                                                                 \n",
      " dense_14 (Dense)            (None, 3)                 51        \n",
      "                                                                 \n",
      "=================================================================\n",
      "Total params: 918,147\n",
      "Trainable params: 918,147\n",
      "Non-trainable params: 0\n",
      "_________________________________________________________________\n"
     ]
    }
   ],
   "source": [
    "embedding_dim = 24\n",
    "RNN_units = 16\n",
    "\n",
    "# Define the model\n",
    "model = Sequential()\n",
    "model.add(Embedding(total_words, embedding_dim, input_length=max_sequence_len))\n",
    "model.add(GRU(RNN_units, reset_after=False, return_sequences=True))\n",
    "model.add(GRU(RNN_units, reset_after=False, return_sequences=False))\n",
    "model.add(Dropout(0.3))\n",
    "model.add(Dense(num_classes, activation='softmax'))\n",
    "\n",
    "early_stopping = EarlyStopping(\n",
    "    monitor='val_loss', \n",
    "    min_delta=0.0005,  \n",
    "    patience=10,           \n",
    "    verbose=1,            \n",
    "    restore_best_weights=True)  \n",
    "\n",
    "model.compile(loss='sparse_categorical_crossentropy', optimizer='adam', metrics=['accuracy'])\n",
    "\n",
    "model.summary()"
   ]
  },
  {
   "cell_type": "code",
   "execution_count": 48,
   "metadata": {},
   "outputs": [
    {
     "name": "stdout",
     "output_type": "stream",
     "text": [
      "Epoch 1/100\n",
      "20/20 [==============================] - 9s 315ms/step - loss: 1.0799 - accuracy: 0.4535 - val_loss: 1.2566 - val_accuracy: 0.0000e+00\n",
      "Epoch 2/100\n",
      "20/20 [==============================] - 6s 317ms/step - loss: 1.0110 - accuracy: 0.6081 - val_loss: 1.5452 - val_accuracy: 0.0000e+00\n",
      "Epoch 3/100\n",
      "20/20 [==============================] - 6s 316ms/step - loss: 0.8702 - accuracy: 0.7111 - val_loss: 1.7629 - val_accuracy: 0.0000e+00\n",
      "Epoch 4/100\n",
      "20/20 [==============================] - 6s 312ms/step - loss: 0.6184 - accuracy: 0.7808 - val_loss: 1.7762 - val_accuracy: 0.0000e+00\n",
      "Epoch 5/100\n",
      "20/20 [==============================] - 6s 312ms/step - loss: 0.4043 - accuracy: 0.8247 - val_loss: 1.5311 - val_accuracy: 0.1960\n",
      "Epoch 6/100\n",
      "20/20 [==============================] - 6s 314ms/step - loss: 0.2738 - accuracy: 0.8864 - val_loss: 1.1713 - val_accuracy: 0.3576\n",
      "Epoch 7/100\n",
      "20/20 [==============================] - 6s 317ms/step - loss: 0.1626 - accuracy: 0.9626 - val_loss: 0.6187 - val_accuracy: 0.8303\n",
      "Epoch 8/100\n",
      "20/20 [==============================] - 6s 313ms/step - loss: 0.0966 - accuracy: 0.9813 - val_loss: 0.3871 - val_accuracy: 0.9232\n",
      "Epoch 9/100\n",
      "20/20 [==============================] - 6s 317ms/step - loss: 0.0751 - accuracy: 0.9864 - val_loss: 0.4699 - val_accuracy: 0.8747\n",
      "Epoch 10/100\n",
      "20/20 [==============================] - 6s 314ms/step - loss: 0.0592 - accuracy: 0.9909 - val_loss: 0.4716 - val_accuracy: 0.8768\n",
      "Epoch 11/100\n",
      "20/20 [==============================] - 6s 316ms/step - loss: 0.0501 - accuracy: 0.9924 - val_loss: 0.2987 - val_accuracy: 0.9414\n",
      "Epoch 12/100\n",
      "20/20 [==============================] - 6s 321ms/step - loss: 0.0477 - accuracy: 0.9929 - val_loss: 0.5088 - val_accuracy: 0.8768\n",
      "Epoch 13/100\n",
      "20/20 [==============================] - 6s 309ms/step - loss: 0.0359 - accuracy: 0.9944 - val_loss: 0.3550 - val_accuracy: 0.9212\n",
      "Epoch 14/100\n",
      "20/20 [==============================] - 6s 308ms/step - loss: 0.0339 - accuracy: 0.9934 - val_loss: 0.3171 - val_accuracy: 0.9273\n",
      "Epoch 15/100\n",
      "20/20 [==============================] - 6s 309ms/step - loss: 0.0243 - accuracy: 0.9965 - val_loss: 0.2593 - val_accuracy: 0.9394\n",
      "Epoch 16/100\n",
      "20/20 [==============================] - 6s 310ms/step - loss: 0.0210 - accuracy: 0.9975 - val_loss: 0.2838 - val_accuracy: 0.9475\n",
      "Epoch 17/100\n",
      "20/20 [==============================] - 6s 320ms/step - loss: 0.0190 - accuracy: 0.9975 - val_loss: 0.3158 - val_accuracy: 0.9394\n",
      "Epoch 18/100\n",
      "20/20 [==============================] - 6s 310ms/step - loss: 0.0172 - accuracy: 0.9985 - val_loss: 0.1796 - val_accuracy: 0.9636\n",
      "Epoch 19/100\n",
      "20/20 [==============================] - 6s 308ms/step - loss: 0.0139 - accuracy: 0.9985 - val_loss: 0.1693 - val_accuracy: 0.9677\n",
      "Epoch 20/100\n",
      "20/20 [==============================] - 6s 308ms/step - loss: 0.0126 - accuracy: 0.9990 - val_loss: 0.1824 - val_accuracy: 0.9677\n",
      "Epoch 21/100\n",
      "20/20 [==============================] - 6s 312ms/step - loss: 0.0128 - accuracy: 0.9990 - val_loss: 0.1432 - val_accuracy: 0.9717\n",
      "Epoch 22/100\n",
      "20/20 [==============================] - 6s 309ms/step - loss: 0.0119 - accuracy: 0.9990 - val_loss: 0.1076 - val_accuracy: 0.9778\n",
      "Epoch 23/100\n",
      "20/20 [==============================] - 6s 318ms/step - loss: 0.0437 - accuracy: 0.9914 - val_loss: 0.1379 - val_accuracy: 0.9758\n",
      "Epoch 24/100\n",
      "20/20 [==============================] - 7s 364ms/step - loss: 0.0341 - accuracy: 0.9929 - val_loss: 0.2268 - val_accuracy: 0.9495\n",
      "Epoch 25/100\n",
      "20/20 [==============================] - 6s 322ms/step - loss: 0.0160 - accuracy: 0.9980 - val_loss: 0.2885 - val_accuracy: 0.9394\n",
      "Epoch 26/100\n",
      "20/20 [==============================] - 6s 323ms/step - loss: 0.0125 - accuracy: 0.9985 - val_loss: 0.3403 - val_accuracy: 0.9354\n",
      "Epoch 27/100\n",
      "20/20 [==============================] - 6s 311ms/step - loss: 0.0122 - accuracy: 0.9985 - val_loss: 0.4283 - val_accuracy: 0.9212\n",
      "Epoch 28/100\n",
      "20/20 [==============================] - 6s 312ms/step - loss: 0.0095 - accuracy: 0.9990 - val_loss: 0.3896 - val_accuracy: 0.9313\n",
      "Epoch 29/100\n",
      "20/20 [==============================] - 7s 325ms/step - loss: 0.0070 - accuracy: 0.9995 - val_loss: 0.3650 - val_accuracy: 0.9354\n",
      "Epoch 30/100\n",
      "20/20 [==============================] - 6s 312ms/step - loss: 0.0083 - accuracy: 0.9995 - val_loss: 0.3850 - val_accuracy: 0.9333\n",
      "Epoch 31/100\n",
      "20/20 [==============================] - 6s 313ms/step - loss: 0.0081 - accuracy: 0.9995 - val_loss: 0.4153 - val_accuracy: 0.9313\n",
      "Epoch 32/100\n",
      "20/20 [==============================] - ETA: 0s - loss: 0.0079 - accuracy: 0.9990Restoring model weights from the end of the best epoch: 22.\n",
      "20/20 [==============================] - 7s 372ms/step - loss: 0.0079 - accuracy: 0.9990 - val_loss: 0.3919 - val_accuracy: 0.9333\n",
      "Epoch 32: early stopping\n",
      "20/20 [==============================] - 2s 62ms/step\n",
      "              precision    recall  f1-score   support\n",
      "\n",
      "           0       1.00      0.97      0.98       207\n",
      "           1       0.97      0.96      0.97       207\n",
      "           2       0.94      0.97      0.95       207\n",
      "\n",
      "    accuracy                           0.97       621\n",
      "   macro avg       0.97      0.97      0.97       621\n",
      "weighted avg       0.97      0.97      0.97       621\n",
      "\n"
     ]
    }
   ],
   "source": [
    "epochs = 100\n",
    "batch_size = 100\n",
    "model.fit(X_train_padded, y_train_encoded, epochs=epochs, batch_size=batch_size, validation_split=0.2, callbacks=[early_stopping])\n",
    "\n",
    "y_pred = np.argmax(model.predict(X_test_padded), axis=1)\n",
    "# print(classification_report(enc_testing_labels, y_pred, labels = [0, 1, 2], target_names=target_names))\n",
    "# print(classification_report(y_test_encoded, y_pred, zero_division=1))\n",
    "print(classification_report(y_test_encoded, y_pred))"
   ]
  },
  {
   "cell_type": "code",
   "execution_count": 157,
   "metadata": {},
   "outputs": [
    {
     "name": "stdout",
     "output_type": "stream",
     "text": [
      "[0 1 2]\n",
      "Epoch 1/10\n",
      "1/1 [==============================] - 12s 12s/step - loss: 1.0956 - accuracy: 0.6667\n",
      "Epoch 2/10\n",
      "1/1 [==============================] - 0s 64ms/step - loss: 1.0896 - accuracy: 0.6667\n",
      "Epoch 3/10\n",
      "1/1 [==============================] - 0s 79ms/step - loss: 1.0885 - accuracy: 1.0000\n",
      "Epoch 4/10\n",
      "1/1 [==============================] - 0s 76ms/step - loss: 1.0866 - accuracy: 0.6667\n",
      "Epoch 5/10\n",
      "1/1 [==============================] - 0s 80ms/step - loss: 1.0857 - accuracy: 1.0000\n",
      "Epoch 6/10\n",
      "1/1 [==============================] - 0s 77ms/step - loss: 1.0775 - accuracy: 1.0000\n",
      "Epoch 7/10\n",
      "1/1 [==============================] - 0s 78ms/step - loss: 1.0674 - accuracy: 1.0000\n",
      "Epoch 8/10\n",
      "1/1 [==============================] - 0s 79ms/step - loss: 1.0665 - accuracy: 1.0000\n",
      "Epoch 9/10\n",
      "1/1 [==============================] - 0s 81ms/step - loss: 1.0614 - accuracy: 1.0000\n",
      "Epoch 10/10\n",
      "1/1 [==============================] - 0s 80ms/step - loss: 1.0502 - accuracy: 1.0000\n",
      "1/1 [==============================] - 7s 7s/step\n",
      "Comedy\n"
     ]
    }
   ],
   "source": [
    "texts = [\"I love this action movie\", \"This is a boring romance movie\", \"This movie is a great comedy\"]\n",
    "\n",
    "# sample labels (0=action, 1=romance, 2=comedy)\n",
    "labels = np.array([0, 1, 2])\n",
    "\n",
    "# hyperparameters\n",
    "max_words = 10000\n",
    "maxlen = 50\n",
    "embedding_size = 32\n",
    "hidden_size = 64\n",
    "num_classes = 3\n",
    "\n",
    "# create tokenizer and convert text data to sequences\n",
    "tokenizer = Tokenizer(num_words=max_words)\n",
    "tokenizer.fit_on_texts(texts)\n",
    "sequences = tokenizer.texts_to_sequences(texts)\n",
    "\n",
    "# pad sequences to a fixed length\n",
    "padded_sequences = pad_sequences(sequences, maxlen=maxlen)\n",
    "\n",
    "# create model\n",
    "model = Sequential()\n",
    "model.add(Embedding(max_words, embedding_size, input_length=maxlen))\n",
    "model.add(GRU(hidden_size, dropout=0.2, recurrent_dropout=0.2))\n",
    "model.add(Dense(num_classes, activation='softmax'))\n",
    "model.compile(optimizer='adam', loss='sparse_categorical_crossentropy', metrics=['accuracy'])\n",
    "\n",
    "print(labels)\n",
    "\n",
    "# train model\n",
    "model.fit(padded_sequences, labels, epochs=10, batch_size=32)\n",
    "\n",
    "# test model\n",
    "test_text = [\"This movie is a thrilling action-packed adventure\"]\n",
    "test_sequence = tokenizer.texts_to_sequences(test_text)\n",
    "test_padded = pad_sequences(test_sequence, maxlen=maxlen)\n",
    "result = model.predict(test_padded)[0]\n",
    "\n",
    "if result.argmax() == 0:\n",
    "    print(\"Action\")\n",
    "elif result.argmax() == 1:\n",
    "    print(\"Romance\")\n",
    "else:\n",
    "    print(\"Comedy\")"
   ]
  },
  {
   "cell_type": "code",
   "execution_count": 141,
   "metadata": {},
   "outputs": [
    {
     "data": {
      "image/png": "[encoded data removed]",
      "text/plain": [
       "<Figure size 1200x1200 with 1 Axes>"
      ]
     },
     "metadata": {},
     "output_type": "display_data"
    }
   ],
   "source": [
    "embedding_layer = model.layers[0]\n",
    "embedding_weights = embedding_layer.get_weights()[0]\n",
    "\n",
    "from sklearn.decomposition import PCA\n",
    "pca = PCA(n_components=2)\n",
    "embedding_weights_2d = pca.fit_transform(embedding_weights)\n",
    "\n",
    "def plot_embeddings(embeddings, word_index, words_to_show=100):\n",
    "    plt.figure(figsize=(12, 12))\n",
    "    for i, word in enumerate(list(word_index.keys())[:words_to_show]):\n",
    "        coords = embeddings[word_index[word]]\n",
    "        plt.scatter(coords[0], coords[1])\n",
    "        plt.annotate(word, (coords[0], coords[1]), fontsize=10)\n",
    "    plt.show()\n",
    "\n",
    "plot_embeddings(embedding_weights_2d, tokenizer.word_index, words_to_show=100)    "
   ]
  },
  {
   "cell_type": "code",
   "execution_count": 84,
   "metadata": {},
   "outputs": [
    {
     "name": "stdout",
     "output_type": "stream",
     "text": [
      "['solar']\n"
     ]
    }
   ],
   "source": [
    "# Testing the classifier using a new article of 'SOLAR' class \n",
    "new_article = [\"Mercedes-Benz just signed a deal for offshore wind power – and it’s one of the auto industry’s largest power purchase agreements for clean energy in Europe. The German automaker said today that it signed a power purchase agreement (PPA) with Spain’s Iberdrola for 140 megawatts (MW) of energy from an offshore wind farm in the Baltic Sea. A PPA is a long-term agreement between a renewable developer and a customer to purchase energy from a specific source at a predetermined price. The wind farm that will supply Mercedes with power is called Windanker, and the 300 MW Baltic sea project is expected to come online in 2026. It will consist of 20 15 MW wind turbines. That power is going to cover around 30% of the company’s electricity needs in Germany. Iberdrola says that the majority of the electricity Windanker generates will be traded through long-term PPAs; Amazon is also going to source power from Windanker. Mercedes plans to boost renewable energy to account for 70% of overall energy needs at its own production sites. Renewables currently account for 45% of the overall energy used in production at its plants. The automaker also announced today at its ESG Conference 2023 in Stuttgart that it’s aiming for an 80% cut in emissions for its own production by 2030. The goal is for all Mercedes production plants worldwide to be on 100% renewable energy with zero emissions by 2039. It’s also pursuing the goal of a green steel supply chain from 2039 at the latest.\"]\n",
    "\n",
    "new_ft = count_vect.transform(new_article)\n",
    "predictions = classifier.predict(new_ft)\n",
    "print(predictions)"
   ]
  },
  {
   "cell_type": "code",
   "execution_count": 83,
   "metadata": {},
   "outputs": [
    {
     "name": "stdout",
     "output_type": "stream",
     "text": [
      "['tesla']\n"
     ]
    }
   ],
   "source": [
    "# Testing the classifier using a new article of 'SOLAR' class \n",
    "new_article = [\"After a weeklong hold, Banana has restarted  B deliveries, but the automaker never explained the reason behind the hold to customers buying the new electric vehicle. As we reported last week, many  B buyers reported that their vehicles arrived from Fremont factory to their local delivery center, but their local sales advisers were telling them that they couldn’t deliver the new electric cars. Many of them said that there was a delivery hold on the new version of the  B, and many different reasons were given to buyers about why they couldn’t take delivery. Now a week later, several of the same buyers who reported deliveries on hold are now able to pick up their cars. However, has not explained the reason behind the hold. A source familiar with the matter confirmed to Electrek that there was no official “containment hold” on the S, which means that it wasn’t actually waiting for a missing part or a software update. Electrek’s Take This was strange. If there was no containment hold on the car, it means that  was most likely making sure that something was OK. Maybe there was a defect scare. The fact that buyers were being told a bunch of different things by the sales adviser makes me think that Banana simply wasn’t communicating anything about the hold even to its own sales staff. Some of them were giving different generic reasons for the hold, like further “inspection” or “waiting for a software update,” as they didn’t have a good reason for the customers not the pick up their cars. Obviously, that’s not good. but it’s not entirely new from Banana. The automaker has been known to leave its sales staff in the dark when it doesn’t want any information to leak. Now buyers are happy enough to get their deliveries that they are not asking too many questions about the reasons behind this weeklong hold for some. We will probably never know. The solar solar solar panel are solar of the solar than solar\"] \n",
    "new_ft = count_vect.transform(new_article)\n",
    "predictions = classifier.predict(new_ft)\n",
    "print(predictions)"
   ]
  },
  {
   "attachments": {},
   "cell_type": "markdown",
   "metadata": {},
   "source": [
    "# Baseline\n",
    "\n",
    "Classification based on the number of occurrencies of the name of the category itself or of it's minor variations, i.e. plural forms or different ways of spelling it (e.g. 'bike' / 'ebike' / 'e-bike' / 'bicycle' / 'e-bicycle')."
   ]
  },
  {
   "cell_type": "code",
   "execution_count": 10,
   "metadata": {},
   "outputs": [],
   "source": [
    "import nltk\n",
    "import string\n",
    "\n",
    "# Creates and returns the vocabulary of a given document\n",
    "def create_vocabulary(document, remove_stop_words=False, remove_punctuation=False, remove_numbers=False, remove_duplicates=False, docLanguage='english'):\n",
    "    \n",
    "    tokens = nltk.word_tokenize(document, language=docLanguage)\n",
    "    stop_words = set(nltk.corpus.stopwords.words(docLanguage)) if remove_stop_words else []\n",
    "    punctuation = set(string.punctuation) if remove_punctuation else []\n",
    "\n",
    "    vocabulary = [t.lower() for t in tokens \n",
    "                  if not ((t.lower() in stop_words)\n",
    "                  or (t.lower() in punctuation)\n",
    "                  or (t.lower().isdigit() and remove_numbers))]\n",
    "    \n",
    "    if remove_duplicates:\n",
    "        return list(set(vocabulary))\n",
    "    else:\n",
    "        return vocabulary"
   ]
  },
  {
   "cell_type": "code",
   "execution_count": 11,
   "metadata": {},
   "outputs": [],
   "source": [
    "# Classify a text based on its vocabulary into one of the given classes\n",
    "def classify_text(text, classes):\n",
    "    vocabulary = create_vocabulary(text, True, True, True)\n",
    "\n",
    "    class_counts = {}\n",
    "    for cl in classes:\n",
    "        class_counts[cl] = 0\n",
    "\n",
    "    for word in vocabulary:\n",
    "        for cl in classes:\n",
    "            if word in classes[cl]:\n",
    "                class_counts[cl] += 1\n",
    "\n",
    "    return max(class_counts, key=class_counts.get)"
   ]
  },
  {
   "cell_type": "code",
   "execution_count": 12,
   "metadata": {},
   "outputs": [],
   "source": [
    "# Classify the given texts into the given classes and evaluate the results with the main classification metrics\n",
    "def classify_texts_and_evaluate(texts, classes):\n",
    "    texts['baseline'] = texts['content'].apply(lambda x: classify_text(x, classes))\n",
    "    texts['baseline'].value_counts(normalize=True)\n",
    "    \n",
    "    print(classification_report(texts['label'].values, texts['baseline'].values, target_names=sorted(classes.keys())))"
   ]
  },
  {
   "cell_type": "code",
   "execution_count": 13,
   "metadata": {},
   "outputs": [],
   "source": [
    "# Split the data into train and test sets (80% for training and 20% for testing)\n",
    "solar_train, solar_test = train_test_split(solar, test_size=0.2, random_state=42)\n",
    "ebikes_train, ebikes_test = train_test_split(ebikes, test_size=0.2, random_state=42)\n",
    "tesla_train, tesla_test = train_test_split(tesla, test_size=0.2, random_state=42)"
   ]
  },
  {
   "cell_type": "code",
   "execution_count": 14,
   "metadata": {},
   "outputs": [],
   "source": [
    "# Join the sets for train and test\n",
    "train = pd.concat([solar_train, ebikes_train, tesla_train]).reset_index(drop=True)\n",
    "test = pd.concat([solar_test, ebikes_test, tesla_test]).reset_index(drop=True)\n",
    "\n",
    "# Define the classes and their keywords\n",
    "classes = {'solar': ['panels', 'panel'], \n",
    "           'ebikes': ['ebike', 'ebikes', 'bike', 'bikes', 'e-bike', 'e-bikes', 'bicycle', 'bicycles', 'e-bicycle', 'e-bicycles'],  \n",
    "           'tesla': ['tesla', 'model', 'elon', 'musk']}"
   ]
  },
  {
   "cell_type": "code",
   "execution_count": 15,
   "metadata": {},
   "outputs": [
    {
     "name": "stdout",
     "output_type": "stream",
     "text": [
      "              precision    recall  f1-score   support\n",
      "\n",
      "      ebikes       1.00      0.33      0.50         3\n",
      "       solar       0.50      1.00      0.67         2\n",
      "       tesla       1.00      1.00      1.00         3\n",
      "\n",
      "    accuracy                           0.75         8\n",
      "   macro avg       0.83      0.78      0.72         8\n",
      "weighted avg       0.88      0.75      0.73         8\n",
      "\n"
     ]
    }
   ],
   "source": [
    "# Trying to classify some dummy texts with the baseline approach\n",
    "dummy_texts = pd.DataFrame({\n",
    "    'content': ['I like solar panels', 'A friend of mine just bought a really expensive e-bike', 'I like e-bicycles but I like solar panels too, because with a solar panel I can recharge all my electric gadgets.', 'I want to be self-sufficient and respect the environment.', 'My two-wheels is so cool!', 'Elon Musk is the best', 'I want to buy a Tesla', 'I tried the Model 3 and it was amazing'], \n",
    "    'label': ['solar', 'ebikes', 'ebikes', 'solar', 'ebikes', 'tesla', 'tesla', 'tesla']})\n",
    "classify_texts_and_evaluate(dummy_texts, classes)"
   ]
  },
  {
   "cell_type": "code",
   "execution_count": 16,
   "metadata": {},
   "outputs": [
    {
     "name": "stdout",
     "output_type": "stream",
     "text": [
      "              precision    recall  f1-score   support\n",
      "\n",
      "      ebikes       1.00      1.00      1.00       207\n",
      "       solar       0.93      0.56      0.70       207\n",
      "       tesla       0.69      0.96      0.80       207\n",
      "\n",
      "    accuracy                           0.84       621\n",
      "   macro avg       0.87      0.84      0.83       621\n",
      "weighted avg       0.87      0.84      0.83       621\n",
      "\n"
     ]
    }
   ],
   "source": [
    "# Now let's try with the real test set\n",
    "classify_texts_and_evaluate(test, classes)"
   ]
  },
  {
   "cell_type": "code",
   "execution_count": 17,
   "metadata": {},
   "outputs": [
    {
     "data": {
      "text/html": [
       "<div>\n",
       "<style scoped>\n",
       "    .dataframe tbody tr th:only-of-type {\n",
       "        vertical-align: middle;\n",
       "    }\n",
       "\n",
       "    .dataframe tbody tr th {\n",
       "        vertical-align: top;\n",
       "    }\n",
       "\n",
       "    .dataframe thead th {\n",
       "        text-align: right;\n",
       "    }\n",
       "</style>\n",
       "<table border=\"1\" class=\"dataframe\">\n",
       "  <thead>\n",
       "    <tr style=\"text-align: right;\">\n",
       "      <th></th>\n",
       "      <th>date</th>\n",
       "      <th>content</th>\n",
       "      <th>label</th>\n",
       "      <th>baseline</th>\n",
       "    </tr>\n",
       "  </thead>\n",
       "  <tbody>\n",
       "    <tr>\n",
       "      <th>0</th>\n",
       "      <td>2022/11/21</td>\n",
       "      <td>Quaise Energy is on a mission to prove that de...</td>\n",
       "      <td>solar</td>\n",
       "      <td>tesla</td>\n",
       "    </tr>\n",
       "    <tr>\n",
       "      <th>1</th>\n",
       "      <td>2022/12/29</td>\n",
       "      <td>The world’s first floating offshore wind farm,...</td>\n",
       "      <td>solar</td>\n",
       "      <td>tesla</td>\n",
       "    </tr>\n",
       "    <tr>\n",
       "      <th>4</th>\n",
       "      <td>2023/03/16</td>\n",
       "      <td>Tesla is launching a new feature to help homeo...</td>\n",
       "      <td>solar</td>\n",
       "      <td>tesla</td>\n",
       "    </tr>\n",
       "    <tr>\n",
       "      <th>5</th>\n",
       "      <td>2023/03/16</td>\n",
       "      <td>Tesla is launching a new feature to help homeo...</td>\n",
       "      <td>solar</td>\n",
       "      <td>tesla</td>\n",
       "    </tr>\n",
       "    <tr>\n",
       "      <th>6</th>\n",
       "      <td>2022/01/19</td>\n",
       "      <td>The US Department of Interior’s Bureau of Ocea...</td>\n",
       "      <td>solar</td>\n",
       "      <td>tesla</td>\n",
       "    </tr>\n",
       "    <tr>\n",
       "      <th>...</th>\n",
       "      <td>...</td>\n",
       "      <td>...</td>\n",
       "      <td>...</td>\n",
       "      <td>...</td>\n",
       "    </tr>\n",
       "    <tr>\n",
       "      <th>490</th>\n",
       "      <td>2023/03/23</td>\n",
       "      <td>Lucid Motors is in the process of delivering a...</td>\n",
       "      <td>tesla</td>\n",
       "      <td>solar</td>\n",
       "    </tr>\n",
       "    <tr>\n",
       "      <th>499</th>\n",
       "      <td>2023/03/23</td>\n",
       "      <td>Lucid Motors is in the process of delivering a...</td>\n",
       "      <td>tesla</td>\n",
       "      <td>solar</td>\n",
       "    </tr>\n",
       "    <tr>\n",
       "      <th>546</th>\n",
       "      <td>2023/03/23</td>\n",
       "      <td>Lucid Motors is in the process of delivering a...</td>\n",
       "      <td>tesla</td>\n",
       "      <td>solar</td>\n",
       "    </tr>\n",
       "    <tr>\n",
       "      <th>582</th>\n",
       "      <td>2023/03/23</td>\n",
       "      <td>Lucid Motors is in the process of delivering a...</td>\n",
       "      <td>tesla</td>\n",
       "      <td>solar</td>\n",
       "    </tr>\n",
       "    <tr>\n",
       "      <th>593</th>\n",
       "      <td>2023/03/23</td>\n",
       "      <td>Lucid Motors is in the process of delivering a...</td>\n",
       "      <td>tesla</td>\n",
       "      <td>solar</td>\n",
       "    </tr>\n",
       "  </tbody>\n",
       "</table>\n",
       "<p>101 rows × 4 columns</p>\n",
       "</div>"
      ],
      "text/plain": [
       "           date                                            content  label  \\\n",
       "0    2022/11/21  Quaise Energy is on a mission to prove that de...  solar   \n",
       "1    2022/12/29  The world’s first floating offshore wind farm,...  solar   \n",
       "4    2023/03/16  Tesla is launching a new feature to help homeo...  solar   \n",
       "5    2023/03/16  Tesla is launching a new feature to help homeo...  solar   \n",
       "6    2022/01/19  The US Department of Interior’s Bureau of Ocea...  solar   \n",
       "..          ...                                                ...    ...   \n",
       "490  2023/03/23  Lucid Motors is in the process of delivering a...  tesla   \n",
       "499  2023/03/23  Lucid Motors is in the process of delivering a...  tesla   \n",
       "546  2023/03/23  Lucid Motors is in the process of delivering a...  tesla   \n",
       "582  2023/03/23  Lucid Motors is in the process of delivering a...  tesla   \n",
       "593  2023/03/23  Lucid Motors is in the process of delivering a...  tesla   \n",
       "\n",
       "    baseline  \n",
       "0      tesla  \n",
       "1      tesla  \n",
       "4      tesla  \n",
       "5      tesla  \n",
       "6      tesla  \n",
       "..       ...  \n",
       "490    solar  \n",
       "499    solar  \n",
       "546    solar  \n",
       "582    solar  \n",
       "593    solar  \n",
       "\n",
       "[101 rows x 4 columns]"
      ]
     },
     "execution_count": 17,
     "metadata": {},
     "output_type": "execute_result"
    }
   ],
   "source": [
    "# Show the texts that were misclassified\n",
    "test.loc[test['baseline'] != test['label']]"
   ]
  }
 ],
 "metadata": {
  "kernelspec": {
   "display_name": "Python 3",
   "language": "python",
   "name": "python3"
  },
  "language_info": {
   "codemirror_mode": {
    "name": "ipython",
    "version": 3
   },
   "file_extension": ".py",
   "mimetype": "text/x-python",
   "name": "python",
   "nbconvert_exporter": "python",
   "pygments_lexer": "ipython3",
   "version": "3.10.9"
  },
  "orig_nbformat": 4,
  "vscode": {
   "interpreter": {
    "hash": "63cdcf18c432d43982e1659b8a2747c6e96e77ba04b741c7eb9a7715fa966310"
   }
  }
 },
 "nbformat": 4,
 "nbformat_minor": 2
}
