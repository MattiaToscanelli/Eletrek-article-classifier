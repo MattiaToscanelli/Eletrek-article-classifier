{
 "cells": [
  {
   "attachments": {},
   "cell_type": "markdown",
   "metadata": {},
   "source": [
    "# Data Cleansing"
   ]
  },
  {
   "cell_type": "code",
   "execution_count": 37,
   "metadata": {},
   "outputs": [],
   "source": [
    "# !pip install tensorflow\n",
    "# !pip install tensorflow==2.12.0\n",
    "# !pip install matplotlib"
   ]
  },
  {
   "cell_type": "code",
   "execution_count": 38,
   "metadata": {},
   "outputs": [],
   "source": [
    "import pandas as pd\n",
    "import matplotlib.pyplot as plt\n",
    "import numpy as np\n",
    "import re\n",
    "import sklearn\n",
    "from sklearn.feature_extraction.text import CountVectorizer, TfidfVectorizer\n",
    "from sklearn.model_selection import train_test_split\n",
    "from sklearn.linear_model import LogisticRegression\n",
    "from sklearn.naive_bayes import MultinomialNB\n",
    "from sklearn.metrics import classification_report\n",
    "from sklearn.pipeline import make_pipeline\n",
    "from sklearn.preprocessing import StandardScaler, LabelEncoder\n",
    "import tensorflow as tf\n",
    "from tensorflow import keras\n",
    "from keras.callbacks import EarlyStopping\n",
    "from keras.models import Sequential\n",
    "from keras.layers import Embedding, LSTM, GRU, Dense, Bidirectional, Dropout\n",
    "from scipy.sparse import csr_matrix\n",
    "from keras.preprocessing.text import Tokenizer\n",
    "from tensorflow.keras.preprocessing.sequence import pad_sequences"
   ]
  },
  {
   "cell_type": "code",
   "execution_count": null,
   "metadata": {},
   "outputs": [],
   "source": []
  },
  {
   "cell_type": "code",
   "execution_count": 39,
   "metadata": {},
   "outputs": [],
   "source": [
    "import csv\n",
    "\n",
    "# Function to write dataframe to csv file\n",
    "def saveToCsv(fileName, df):\n",
    "    with open(f'../data/{fileName}.csv', 'w', encoding='UTF8', newline='') as f:\n",
    "        writer = csv.writer(f)\n",
    "        writer.writerow(df.columns)\n",
    "        writer.writerows(df.values)"
   ]
  },
  {
   "cell_type": "code",
   "execution_count": 40,
   "metadata": {},
   "outputs": [],
   "source": [
    "# Read in data from csv files\n",
    "solar = pd.read_csv('../data/solar.csv')\n",
    "ebikes = pd.read_csv('../data/ebikes.csv')\n",
    "tesla = pd.read_csv('../data/tesla.csv')"
   ]
  },
  {
   "cell_type": "code",
   "execution_count": 41,
   "metadata": {},
   "outputs": [
    {
     "name": "stderr",
     "output_type": "stream",
     "text": [
      "C:\\Users\\grego\\AppData\\Local\\Temp\\ipykernel_21372\\1301546108.py:2: FutureWarning: The default value of regex will change from True to False in a future version.\n",
      "  ebikes['content'] = ebikes['content'].str.replace(r\"\\n\", \"\")\n",
      "C:\\Users\\grego\\AppData\\Local\\Temp\\ipykernel_21372\\1301546108.py:3: FutureWarning: The default value of regex will change from True to False in a future version.\n",
      "  ebikes['content'] = ebikes['content'].str.replace(r\"\\r\", \"\")\n",
      "C:\\Users\\grego\\AppData\\Local\\Temp\\ipykernel_21372\\1301546108.py:4: FutureWarning: The default value of regex will change from True to False in a future version.\n",
      "  solar['content'] = solar['content'].str.replace(r\"\\n\", \"\")\n",
      "C:\\Users\\grego\\AppData\\Local\\Temp\\ipykernel_21372\\1301546108.py:5: FutureWarning: The default value of regex will change from True to False in a future version.\n",
      "  solar['content'] = solar['content'].str.replace(r\"\\r\", \"\")\n",
      "C:\\Users\\grego\\AppData\\Local\\Temp\\ipykernel_21372\\1301546108.py:6: FutureWarning: The default value of regex will change from True to False in a future version.\n",
      "  tesla['content'] = tesla['content'].str.replace(r\"\\n\", \"\")\n",
      "C:\\Users\\grego\\AppData\\Local\\Temp\\ipykernel_21372\\1301546108.py:7: FutureWarning: The default value of regex will change from True to False in a future version.\n",
      "  tesla['content'] = tesla['content'].str.replace(r\"\\r\", \"\")\n"
     ]
    }
   ],
   "source": [
    "# Remove new line characters\n",
    "ebikes['content'] = ebikes['content'].str.replace(r\"\\n\", \"\")\n",
    "ebikes['content'] = ebikes['content'].str.replace(r\"\\r\", \"\")\n",
    "solar['content'] = solar['content'].str.replace(r\"\\n\", \"\")\n",
    "solar['content'] = solar['content'].str.replace(r\"\\r\", \"\")\n",
    "tesla['content'] = tesla['content'].str.replace(r\"\\n\", \"\")\n",
    "tesla['content'] = tesla['content'].str.replace(r\"\\r\", \"\")"
   ]
  },
  {
   "cell_type": "code",
   "execution_count": 42,
   "metadata": {},
   "outputs": [],
   "source": [
    "# Add labels to data\n",
    "solar['label'] = 'solar'\n",
    "ebikes['label'] = 'ebikes'\n",
    "tesla['label'] = 'tesla'"
   ]
  },
  {
   "cell_type": "code",
   "execution_count": 43,
   "metadata": {},
   "outputs": [
    {
     "name": "stdout",
     "output_type": "stream",
     "text": [
      "len(solar) = 1204, len(ebikes) = 1032, len(tesla) = 1202\n",
      "len(solar) = 1032, len(ebikes) = 1032, len(tesla) = 1032\n"
     ]
    }
   ],
   "source": [
    "# Print lenght of the datasets\n",
    "print(f'len(solar) = {len(solar)}, len(ebikes) = {len(ebikes)}, len(tesla) = {len(tesla)}')\n",
    "\n",
    "# Take first 1032 rows of the solar and Tesla datasets (to have the same number of rows as the ebikes dataset)\n",
    "\n",
    "\n",
    "# Take same number of rows from the datasets\n",
    "min_len = min(len(solar), len(ebikes), len(tesla))\n",
    "solar = solar.head(min_len)\n",
    "ebikes = ebikes.head(min_len)\n",
    "tesla = tesla.head(min_len)\n",
    "print(f'len(solar) = {len(solar)}, len(ebikes) = {len(ebikes)}, len(tesla) = {len(tesla)}')"
   ]
  },
  {
   "attachments": {},
   "cell_type": "markdown",
   "metadata": {},
   "source": [
    "# Classification Models"
   ]
  },
  {
   "attachments": {},
   "cell_type": "markdown",
   "metadata": {},
   "source": [
    "### Naive Bayes with Count Vectorizer"
   ]
  },
  {
   "cell_type": "code",
   "execution_count": 44,
   "metadata": {},
   "outputs": [],
   "source": [
    "# Split the data into train and test sets (80% for training and 20% for testing)\n",
    "solar_train, solar_test = train_test_split(solar, test_size=0.2, random_state=42)\n",
    "ebikes_train, ebikes_test = train_test_split(ebikes, test_size=0.2, random_state=42)\n",
    "tesla_train, tesla_test = train_test_split(tesla, test_size=0.2, random_state=42)"
   ]
  },
  {
   "cell_type": "code",
   "execution_count": 45,
   "metadata": {},
   "outputs": [],
   "source": [
    "# Join the sets for train and test\n",
    "train = pd.concat([solar_train, ebikes_train, tesla_train]).reset_index(drop=True)\n",
    "test = pd.concat([solar_test, ebikes_test, tesla_test]).reset_index(drop=True)"
   ]
  },
  {
   "cell_type": "code",
   "execution_count": 46,
   "metadata": {},
   "outputs": [],
   "source": [
    "# Extract the content and label columns from the dataframes\n",
    "train_data = train[\"content\"].values\n",
    "train_labels = train[\"label\"].values\n",
    "test_data = test[\"content\"].values\n",
    "test_labels = test[\"label\"].values\n",
    "\n",
    "target_names = ['ebikes', 'solar', 'tesla']\n"
   ]
  },
  {
   "cell_type": "code",
   "execution_count": 47,
   "metadata": {},
   "outputs": [
    {
     "name": "stdout",
     "output_type": "stream",
     "text": [
      "              precision    recall  f1-score   support\n",
      "\n",
      "      ebikes       1.00      0.99      1.00       207\n",
      "       solar       0.97      1.00      0.98       207\n",
      "       tesla       1.00      0.98      0.99       207\n",
      "\n",
      "    accuracy                           0.99       621\n",
      "   macro avg       0.99      0.99      0.99       621\n",
      "weighted avg       0.99      0.99      0.99       621\n",
      "\n"
     ]
    }
   ],
   "source": [
    "# Conversione of texts into features\n",
    "count_vect = CountVectorizer()\n",
    "X_train_counts = count_vect.fit_transform(train_data)\n",
    "test_features = count_vect.transform(test_data)\n",
    "\n",
    "# Training \n",
    "classifier = MultinomialNB()\n",
    "classifier.fit(X_train_counts, train_labels)\n",
    "\n",
    "# Test\n",
    "predictions = classifier.predict(test_features)\n",
    "\n",
    "print(classification_report(test_labels, predictions, target_names=target_names))"
   ]
  },
  {
   "cell_type": "code",
   "execution_count": 48,
   "metadata": {},
   "outputs": [
    {
     "name": "stdout",
     "output_type": "stream",
     "text": [
      "              precision    recall  f1-score   support\n",
      "\n",
      "      ebikes       1.00      1.00      1.00       207\n",
      "       solar       0.98      1.00      0.99       207\n",
      "       tesla       1.00      0.98      0.99       207\n",
      "\n",
      "    accuracy                           0.99       621\n",
      "   macro avg       0.99      0.99      0.99       621\n",
      "weighted avg       0.99      0.99      0.99       621\n",
      "\n"
     ]
    },
    {
     "name": "stderr",
     "output_type": "stream",
     "text": [
      "c:\\Users\\grego\\OneDrive\\Desktop\\nlp\\Eletrek-article-classifier\\.conda\\lib\\site-packages\\sklearn\\linear_model\\_logistic.py:458: ConvergenceWarning: lbfgs failed to converge (status=1):\n",
      "STOP: TOTAL NO. of ITERATIONS REACHED LIMIT.\n",
      "\n",
      "Increase the number of iterations (max_iter) or scale the data as shown in:\n",
      "    https://scikit-learn.org/stable/modules/preprocessing.html\n",
      "Please also refer to the documentation for alternative solver options:\n",
      "    https://scikit-learn.org/stable/modules/linear_model.html#logistic-regression\n",
      "  n_iter_i = _check_optimize_result(\n"
     ]
    }
   ],
   "source": [
    "count_vect = CountVectorizer()\n",
    "X_train_counts = count_vect.fit_transform(train_data)\n",
    "test_features = count_vect.transform(test_data)\n",
    "\n",
    "pipeline = make_pipeline(StandardScaler(with_mean=False), LogisticRegression())\n",
    "\n",
    "# Training \n",
    "pipeline.fit(X_train_counts, train_labels)\n",
    "\n",
    "# Test\n",
    "predictions = pipeline.predict(test_features)\n",
    "\n",
    "print(classification_report(test_labels, predictions, target_names=target_names))"
   ]
  },
  {
   "cell_type": "code",
   "execution_count": 49,
   "metadata": {},
   "outputs": [
    {
     "name": "stdout",
     "output_type": "stream",
     "text": [
      "              precision    recall  f1-score   support\n",
      "\n",
      "      ebikes       1.00      0.99      0.99       207\n",
      "       solar       0.96      1.00      0.98       207\n",
      "       tesla       1.00      0.97      0.98       207\n",
      "\n",
      "    accuracy                           0.99       621\n",
      "   macro avg       0.99      0.99      0.99       621\n",
      "weighted avg       0.99      0.99      0.99       621\n",
      "\n"
     ]
    }
   ],
   "source": [
    "# Conversione of texts into features\n",
    "count_vect = TfidfVectorizer(max_features=2000)\n",
    "X_train_counts = count_vect.fit_transform(train_data)\n",
    "test_features = count_vect.transform(test_data)\n",
    "\n",
    "# Training \n",
    "classifier = MultinomialNB()\n",
    "classifier.fit(X_train_counts, train_labels)\n",
    "\n",
    "# Test\n",
    "predictions = classifier.predict(test_features)\n",
    "\n",
    "print(classification_report(test_labels, predictions, target_names=target_names))"
   ]
  },
  {
   "cell_type": "code",
   "execution_count": 50,
   "metadata": {},
   "outputs": [
    {
     "name": "stdout",
     "output_type": "stream",
     "text": [
      "              precision    recall  f1-score   support\n",
      "\n",
      "      ebikes       1.00      1.00      1.00       207\n",
      "       solar       0.98      1.00      0.99       207\n",
      "       tesla       0.99      0.98      0.99       207\n",
      "\n",
      "    accuracy                           0.99       621\n",
      "   macro avg       0.99      0.99      0.99       621\n",
      "weighted avg       0.99      0.99      0.99       621\n",
      "\n"
     ]
    },
    {
     "name": "stderr",
     "output_type": "stream",
     "text": [
      "c:\\Users\\grego\\OneDrive\\Desktop\\nlp\\Eletrek-article-classifier\\.conda\\lib\\site-packages\\sklearn\\linear_model\\_logistic.py:458: ConvergenceWarning: lbfgs failed to converge (status=1):\n",
      "STOP: TOTAL NO. of ITERATIONS REACHED LIMIT.\n",
      "\n",
      "Increase the number of iterations (max_iter) or scale the data as shown in:\n",
      "    https://scikit-learn.org/stable/modules/preprocessing.html\n",
      "Please also refer to the documentation for alternative solver options:\n",
      "    https://scikit-learn.org/stable/modules/linear_model.html#logistic-regression\n",
      "  n_iter_i = _check_optimize_result(\n"
     ]
    }
   ],
   "source": [
    "# Conversione of texts into features\n",
    "count_vect = CountVectorizer()\n",
    "X_train_counts = count_vect.fit_transform(train_data)\n",
    "test_features = count_vect.transform(test_data)\n",
    "\n",
    "# Training \n",
    "classifier = LogisticRegression()\n",
    "classifier.fit(X_train_counts, train_labels)\n",
    "\n",
    "# Test\n",
    "predictions = classifier.predict(test_features)\n",
    "\n",
    "print(classification_report(test_labels, predictions, target_names=target_names))"
   ]
  },
  {
   "cell_type": "code",
   "execution_count": 51,
   "metadata": {},
   "outputs": [
    {
     "name": "stdout",
     "output_type": "stream",
     "text": [
      "              precision    recall  f1-score   support\n",
      "\n",
      "      ebikes       1.00      0.99      0.99       207\n",
      "       solar       0.97      1.00      0.98       207\n",
      "       tesla       0.99      0.98      0.98       207\n",
      "\n",
      "    accuracy                           0.99       621\n",
      "   macro avg       0.99      0.99      0.99       621\n",
      "weighted avg       0.99      0.99      0.99       621\n",
      "\n"
     ]
    }
   ],
   "source": [
    "# Conversione of texts into features\n",
    "count_vect = TfidfVectorizer(max_features=2000)\n",
    "X_train_counts = count_vect.fit_transform(train_data)\n",
    "test_features = count_vect.transform(test_data)\n",
    "\n",
    "# Training \n",
    "classifier = LogisticRegression()\n",
    "classifier.fit(X_train_counts, train_labels)\n",
    "\n",
    "# Test\n",
    "predictions = classifier.predict(test_features)\n",
    "\n",
    "print(classification_report(test_labels, predictions, target_names=target_names))"
   ]
  },
  {
   "cell_type": "code",
   "execution_count": 70,
   "metadata": {},
   "outputs": [
    {
     "name": "stdout",
     "output_type": "stream",
     "text": [
      "Epoch 1/20\n",
      "124/124 [==============================] - 1s 3ms/step - loss: 0.6229 - accuracy: 0.8460 - val_loss: 0.1885 - val_accuracy: 0.9919\n",
      "Epoch 2/20\n",
      "124/124 [==============================] - 0s 2ms/step - loss: 0.0984 - accuracy: 0.9949 - val_loss: 0.0545 - val_accuracy: 1.0000\n",
      "Epoch 3/20\n",
      "124/124 [==============================] - 0s 3ms/step - loss: 0.0355 - accuracy: 0.9970 - val_loss: 0.0287 - val_accuracy: 0.9980\n",
      "Epoch 4/20\n",
      "124/124 [==============================] - 0s 3ms/step - loss: 0.0191 - accuracy: 0.9995 - val_loss: 0.0190 - val_accuracy: 1.0000\n",
      "Epoch 5/20\n",
      "124/124 [==============================] - 0s 3ms/step - loss: 0.0123 - accuracy: 0.9995 - val_loss: 0.0140 - val_accuracy: 1.0000\n",
      "Epoch 6/20\n",
      "124/124 [==============================] - 0s 2ms/step - loss: 0.0092 - accuracy: 0.9995 - val_loss: 0.0113 - val_accuracy: 1.0000\n",
      "Epoch 7/20\n",
      "124/124 [==============================] - 0s 2ms/step - loss: 0.0073 - accuracy: 0.9995 - val_loss: 0.0097 - val_accuracy: 0.9980\n",
      "Epoch 8/20\n",
      "124/124 [==============================] - 0s 2ms/step - loss: 0.0061 - accuracy: 0.9995 - val_loss: 0.0087 - val_accuracy: 1.0000\n",
      "Epoch 9/20\n",
      "124/124 [==============================] - 0s 2ms/step - loss: 0.0055 - accuracy: 0.9995 - val_loss: 0.0072 - val_accuracy: 1.0000\n",
      "Epoch 10/20\n",
      "124/124 [==============================] - 0s 2ms/step - loss: 0.0049 - accuracy: 0.9995 - val_loss: 0.0068 - val_accuracy: 1.0000\n",
      "Epoch 11/20\n",
      "124/124 [==============================] - 0s 2ms/step - loss: 0.0042 - accuracy: 0.9995 - val_loss: 0.0065 - val_accuracy: 0.9980\n",
      "Epoch 12/20\n",
      "124/124 [==============================] - 0s 2ms/step - loss: 0.0040 - accuracy: 0.9995 - val_loss: 0.0051 - val_accuracy: 1.0000\n",
      "Epoch 13/20\n",
      "124/124 [==============================] - 0s 3ms/step - loss: 0.0036 - accuracy: 0.9995 - val_loss: 0.0056 - val_accuracy: 0.9980\n",
      "Epoch 14/20\n",
      "124/124 [==============================] - 0s 2ms/step - loss: 0.0038 - accuracy: 0.9995 - val_loss: 0.0048 - val_accuracy: 0.9980\n",
      "Epoch 15/20\n",
      "124/124 [==============================] - 0s 3ms/step - loss: 0.0035 - accuracy: 0.9995 - val_loss: 0.0050 - val_accuracy: 0.9980\n",
      "Epoch 16/20\n",
      "124/124 [==============================] - 0s 2ms/step - loss: 0.0034 - accuracy: 0.9995 - val_loss: 0.0042 - val_accuracy: 1.0000\n",
      "Epoch 17/20\n",
      "124/124 [==============================] - 0s 2ms/step - loss: 0.0031 - accuracy: 0.9995 - val_loss: 0.0047 - val_accuracy: 0.9980\n",
      "Epoch 18/20\n",
      "124/124 [==============================] - 0s 2ms/step - loss: 0.0032 - accuracy: 0.9995 - val_loss: 0.0039 - val_accuracy: 1.0000\n",
      "Epoch 19/20\n",
      "124/124 [==============================] - 0s 2ms/step - loss: 0.0032 - accuracy: 0.9995 - val_loss: 0.0039 - val_accuracy: 0.9980\n",
      "Epoch 20/20\n",
      "124/124 [==============================] - 0s 2ms/step - loss: 0.0030 - accuracy: 0.9995 - val_loss: 0.0039 - val_accuracy: 0.9980\n",
      "Test accuracy: 99.03%\n",
      "20/20 [==============================] - 0s 3ms/step\n",
      "              precision    recall  f1-score   support\n",
      "\n",
      "      ebikes       1.00      1.00      1.00       207\n",
      "       solar       0.98      1.00      0.99       207\n",
      "       tesla       1.00      0.98      0.99       207\n",
      "\n",
      "    accuracy                           0.99       621\n",
      "   macro avg       0.99      0.99      0.99       621\n",
      "weighted avg       0.99      0.99      0.99       621\n",
      "\n"
     ]
    }
   ],
   "source": [
    "training_features = train_data\n",
    "test_features = test_data\n",
    "training_labels = train_labels\n",
    "testing_labels = test_labels\n",
    "\n",
    "label_encoder = LabelEncoder()\n",
    "enc_training_labels = label_encoder.fit_transform(training_labels)\n",
    "enc_testing_labels = label_encoder.transform(testing_labels)\n",
    "\n",
    "# Conversione dei testi in features (TF-IDF)\n",
    "vectorizer = TfidfVectorizer(max_features=2000)\n",
    "training_features = vectorizer.fit_transform(training_features)\n",
    "test_features = vectorizer.transform(test_features)\n",
    "\n",
    "input_size = training_features.shape[1]  \n",
    "hidden_size = 8\n",
    "num_classes = len(target_names)\n",
    "num_epochs = 20\n",
    "batch_size = 16\n",
    "learning_rate = 0.01\n",
    "\n",
    "model = Sequential([\n",
    "    tf.keras.layers.Dense(hidden_size, input_shape=(input_size,), activation='sigmoid'),\n",
    "    tf.keras.layers.Dense(num_classes, activation='softmax')\n",
    "])\n",
    "\n",
    "\n",
    "dense_training_features = training_features.toarray()\n",
    "dense_test_features = test_features.toarray()\n",
    "\n",
    "X_train, X_val, y_train, y_val = train_test_split(dense_training_features, np.array(enc_training_labels), test_size=0.2, random_state=1492)\n",
    "\n",
    "early_stopping = EarlyStopping(monitor='val_loss', patience=2, restore_best_weights=True)\n",
    "\n",
    "model.compile(optimizer=tf.keras.optimizers.Adam(learning_rate=learning_rate),\n",
    "              loss='sparse_categorical_crossentropy',\n",
    "              metrics=['accuracy'])\n",
    "\n",
    "history = model.fit(\n",
    "    X_train,\n",
    "    y_train,\n",
    "    epochs=num_epochs,\n",
    "    batch_size=batch_size,\n",
    "    verbose=1,\n",
    "    validation_data=(X_val, y_val),\n",
    "    callbacks=[early_stopping]\n",
    ")\n",
    "\n",
    "\n",
    "_, test_accuracy = model.evaluate(dense_test_features, np.array(enc_testing_labels), verbose=0)\n",
    "print(f'Test accuracy: {100 * test_accuracy:.2f}%')\n",
    "\n",
    "y_pred = np.argmax(model.predict(dense_test_features), axis=1)\n",
    "print(classification_report(enc_testing_labels, y_pred, labels = [0, 1, 2], target_names=target_names))\n",
    "# print(classification_report(enc_testing_labels, y_pred))"
   ]
  },
  {
   "cell_type": "code",
   "execution_count": 53,
   "metadata": {},
   "outputs": [],
   "source": [
    "# Split the data into train and test sets (80% for training and 20% for testing)\n",
    "solar_train, solar_test = train_test_split(solar, test_size=0.2, random_state=42)\n",
    "ebikes_train, ebikes_test = train_test_split(ebikes, test_size=0.2, random_state=42)\n",
    "tesla_train, tesla_test = train_test_split(tesla, test_size=0.2, random_state=42)\n",
    "\n",
    "# Join the sets for train and test\n",
    "train = pd.concat([solar_train, ebikes_train, tesla_train], axis=0)\n",
    "test = pd.concat([solar_test, ebikes_test, tesla_test], axis=0)\n",
    "\n",
    "# Extract the content and label columns from the dataframes\n",
    "train_data = train[\"content\"].values\n",
    "train_labels = train[\"label\"].values\n",
    "test_data = test[\"content\"].values\n",
    "test_labels = test[\"label\"].values\n",
    "\n",
    "target_names = ['ebikes', 'solar', 'tesla']"
   ]
  },
  {
   "cell_type": "code",
   "execution_count": 72,
   "metadata": {},
   "outputs": [],
   "source": [
    "tokenizer = Tokenizer(oov_token=\"<OOV>\")\n",
    "tokenizer.fit_on_texts(train_data)\n",
    "\n",
    "X_train_sequences = tokenizer.texts_to_sequences(train_data)\n",
    "X_test_sequences = tokenizer.texts_to_sequences(test_data)\n",
    "\n",
    "max_sequence_len = max([len(x) for x in X_train_sequences])\n",
    "max_sequence_len = 350\n",
    "\n",
    "X_train_padded = pad_sequences(X_train_sequences, maxlen=max_sequence_len, padding='post')\n",
    "X_test_padded = pad_sequences(X_test_sequences, maxlen=max_sequence_len, padding='post')\n",
    "\n",
    "label_encoder = LabelEncoder()\n",
    "y_train_encoded = label_encoder.fit_transform(train_labels)\n",
    "y_test_encoded = label_encoder.transform(test_labels)\n",
    "num_classes = len(set(train_labels))\n",
    "total_words = len(tokenizer.word_index) + 1\n",
    "\n",
    "assert num_classes == len(target_names) "
   ]
  },
  {
   "cell_type": "code",
   "execution_count": 55,
   "metadata": {},
   "outputs": [
    {
     "data": {
      "text/plain": [
       "(2475, 350, 38106)"
      ]
     },
     "execution_count": 55,
     "metadata": {},
     "output_type": "execute_result"
    }
   ],
   "source": [
    "len(X_train_sequences), max_sequence_len, total_words"
   ]
  },
  {
   "cell_type": "code",
   "execution_count": 73,
   "metadata": {},
   "outputs": [
    {
     "name": "stdout",
     "output_type": "stream",
     "text": [
      "Model: \"sequential_6\"\n",
      "_________________________________________________________________\n",
      " Layer (type)                Output Shape              Param #   \n",
      "=================================================================\n",
      " embedding_3 (Embedding)     (None, 350, 24)           914544    \n",
      "                                                                 \n",
      " gru_6 (GRU)                 (None, 350, 18)           2322      \n",
      "                                                                 \n",
      " gru_7 (GRU)                 (None, 18)                1998      \n",
      "                                                                 \n",
      " dropout_3 (Dropout)         (None, 18)                0         \n",
      "                                                                 \n",
      " dense_9 (Dense)             (None, 3)                 57        \n",
      "                                                                 \n",
      "=================================================================\n",
      "Total params: 918,921\n",
      "Trainable params: 918,921\n",
      "Non-trainable params: 0\n",
      "_________________________________________________________________\n"
     ]
    }
   ],
   "source": [
    "embedding_dim = 24\n",
    "RNN_units = 18\n",
    "\n",
    "# Define the model\n",
    "model = Sequential()\n",
    "model.add(Embedding(total_words, embedding_dim, input_length=max_sequence_len))\n",
    "model.add(GRU(RNN_units, reset_after=False, return_sequences=True))\n",
    "model.add(GRU(RNN_units, reset_after=False, return_sequences=False))\n",
    "model.add(Dropout(0.3))\n",
    "model.add(Dense(num_classes, activation='softmax'))\n",
    "\n",
    "early_stopping = EarlyStopping(\n",
    "    monitor='val_loss', \n",
    "    min_delta=0.0005,  \n",
    "    patience=7,           \n",
    "    verbose=1,            \n",
    "    restore_best_weights=True)  \n",
    "\n",
    "model.compile(loss='sparse_categorical_crossentropy', optimizer='adam', metrics=['accuracy'])\n",
    "\n",
    "model.summary()"
   ]
  },
  {
   "cell_type": "code",
   "execution_count": 74,
   "metadata": {},
   "outputs": [
    {
     "name": "stdout",
     "output_type": "stream",
     "text": [
      "Epoch 1/100\n",
      "20/20 [==============================] - 11s 386ms/step - loss: 1.0609 - accuracy: 0.5217 - val_loss: 1.3969 - val_accuracy: 0.0000e+00\n",
      "Epoch 2/100\n",
      "20/20 [==============================] - 8s 428ms/step - loss: 0.9446 - accuracy: 0.6308 - val_loss: 1.6713 - val_accuracy: 0.0000e+00\n",
      "Epoch 3/100\n",
      "20/20 [==============================] - 8s 417ms/step - loss: 0.7043 - accuracy: 0.7682 - val_loss: 1.5267 - val_accuracy: 0.0000e+00\n",
      "Epoch 4/100\n",
      "20/20 [==============================] - 7s 332ms/step - loss: 0.4525 - accuracy: 0.8162 - val_loss: 1.4110 - val_accuracy: 0.0000e+00\n",
      "Epoch 5/100\n",
      "20/20 [==============================] - 7s 335ms/step - loss: 0.3724 - accuracy: 0.8298 - val_loss: 1.3166 - val_accuracy: 0.1576\n",
      "Epoch 6/100\n",
      "20/20 [==============================] - 7s 344ms/step - loss: 0.2828 - accuracy: 0.8939 - val_loss: 1.0695 - val_accuracy: 0.4141\n",
      "Epoch 7/100\n",
      "20/20 [==============================] - 7s 327ms/step - loss: 0.1748 - accuracy: 0.9561 - val_loss: 0.8288 - val_accuracy: 0.7495\n",
      "Epoch 8/100\n",
      "20/20 [==============================] - 6s 323ms/step - loss: 0.0809 - accuracy: 0.9884 - val_loss: 0.6966 - val_accuracy: 0.8364\n",
      "Epoch 9/100\n",
      "20/20 [==============================] - 7s 329ms/step - loss: 0.0675 - accuracy: 0.9894 - val_loss: 0.4897 - val_accuracy: 0.8909\n",
      "Epoch 10/100\n",
      "20/20 [==============================] - 6s 322ms/step - loss: 0.0803 - accuracy: 0.9833 - val_loss: 0.7801 - val_accuracy: 0.8283\n",
      "Epoch 11/100\n",
      "20/20 [==============================] - 6s 323ms/step - loss: 0.0581 - accuracy: 0.9909 - val_loss: 1.1608 - val_accuracy: 0.7232\n",
      "Epoch 12/100\n",
      "20/20 [==============================] - 6s 324ms/step - loss: 0.0556 - accuracy: 0.9924 - val_loss: 0.8482 - val_accuracy: 0.7980\n",
      "Epoch 13/100\n",
      "20/20 [==============================] - 7s 330ms/step - loss: 0.0464 - accuracy: 0.9919 - val_loss: 0.5674 - val_accuracy: 0.8727\n",
      "Epoch 14/100\n",
      "20/20 [==============================] - ETA: 0s - loss: 0.0384 - accuracy: 0.9944Restoring model weights from the end of the best epoch: 9.\n",
      "20/20 [==============================] - 7s 338ms/step - loss: 0.0384 - accuracy: 0.9944 - val_loss: 0.8206 - val_accuracy: 0.8061\n",
      "Epoch 14: early stopping\n",
      "20/20 [==============================] - 2s 62ms/step\n",
      "              precision    recall  f1-score   support\n",
      "\n",
      "      ebikes       0.80      0.95      0.87       207\n",
      "       solar       0.97      0.80      0.88       207\n",
      "       tesla       0.94      0.93      0.93       207\n",
      "\n",
      "    accuracy                           0.89       621\n",
      "   macro avg       0.90      0.89      0.89       621\n",
      "weighted avg       0.90      0.89      0.89       621\n",
      "\n"
     ]
    }
   ],
   "source": [
    "epochs = 100\n",
    "batch_size = 100\n",
    "model.fit(X_train_padded, y_train_encoded, epochs=epochs, batch_size=batch_size, validation_split=0.2, callbacks=[early_stopping])\n",
    "\n",
    "y_pred = np.argmax(model.predict(X_test_padded), axis=1)\n",
    "# print(classification_report(enc_testing_labels, y_pred, labels = [0, 1, 2], target_names=target_names))\n",
    "# print(classification_report(y_test_encoded, y_pred, zero_division=1))\n",
    "print(classification_report(y_test_encoded, y_pred, labels = [0, 1, 2], target_names=target_names))"
   ]
  },
  {
   "cell_type": "code",
   "execution_count": 75,
   "metadata": {},
   "outputs": [
    {
     "data": {
      "image/png": "[encoded data removed]",
      "text/plain": [
       "<Figure size 1200x1200 with 1 Axes>"
      ]
     },
     "metadata": {},
     "output_type": "display_data"
    }
   ],
   "source": [
    "embedding_layer = model.layers[0]\n",
    "embedding_weights = embedding_layer.get_weights()[0]\n",
    "\n",
    "from sklearn.decomposition import PCA\n",
    "pca = PCA(n_components=2)\n",
    "embedding_weights_2d = pca.fit_transform(embedding_weights)\n",
    "\n",
    "def plot_embeddings(embeddings, word_index, words_to_show=100):\n",
    "    plt.figure(figsize=(12, 12))\n",
    "    for i, word in enumerate(list(word_index.keys())[:words_to_show]):\n",
    "        coords = embeddings[word_index[word]]\n",
    "        plt.scatter(coords[0], coords[1])\n",
    "        plt.annotate(word, (coords[0], coords[1]), fontsize=10)\n",
    "    plt.show()\n",
    "\n",
    "plot_embeddings(embedding_weights_2d, tokenizer.word_index, words_to_show=100)    "
   ]
  },
  {
   "attachments": {},
   "cell_type": "markdown",
   "metadata": {},
   "source": [
    "# Baseline\n",
    "\n",
    "Classification based on the number of occurrencies of the name of the category itself or of it's minor variations, i.e. plural forms or different ways of spelling it (e.g. 'bike' / 'ebike' / 'e-bike' / 'bicycle' / 'e-bicycle')."
   ]
  },
  {
   "cell_type": "code",
   "execution_count": 62,
   "metadata": {},
   "outputs": [],
   "source": [
    "import nltk\n",
    "import string\n",
    "\n",
    "# Creates and returns the vocabulary of a given document\n",
    "def create_vocabulary(document, remove_stop_words=False, remove_punctuation=False, remove_numbers=False, remove_duplicates=False, docLanguage='english'):\n",
    "    \n",
    "    tokens = nltk.word_tokenize(document, language=docLanguage)\n",
    "    stop_words = set(nltk.corpus.stopwords.words(docLanguage)) if remove_stop_words else []\n",
    "    punctuation = set(string.punctuation) if remove_punctuation else []\n",
    "\n",
    "    vocabulary = [t.lower() for t in tokens \n",
    "                  if not ((t.lower() in stop_words)\n",
    "                  or (t.lower() in punctuation)\n",
    "                  or (t.lower().isdigit() and remove_numbers))]\n",
    "    \n",
    "    if remove_duplicates:\n",
    "        return list(set(vocabulary))\n",
    "    else:\n",
    "        return vocabulary"
   ]
  },
  {
   "cell_type": "code",
   "execution_count": 63,
   "metadata": {},
   "outputs": [],
   "source": [
    "# Classify a text based on its vocabulary into one of the given classes\n",
    "def classify_text(text, classes):\n",
    "    vocabulary = create_vocabulary(text, True, True, True)\n",
    "\n",
    "    class_counts = {}\n",
    "    for cl in classes:\n",
    "        class_counts[cl] = 0\n",
    "\n",
    "    for word in vocabulary:\n",
    "        for cl in classes:\n",
    "            if word in classes[cl]:\n",
    "                class_counts[cl] += 1\n",
    "\n",
    "    return max(class_counts, key=class_counts.get)"
   ]
  },
  {
   "cell_type": "code",
   "execution_count": 64,
   "metadata": {},
   "outputs": [],
   "source": [
    "# Classify the given texts into the given classes and evaluate the results with the main classification metrics\n",
    "def classify_texts_and_evaluate(texts, classes):\n",
    "    texts['baseline'] = texts['content'].apply(lambda x: classify_text(x, classes))\n",
    "    texts['baseline'].value_counts(normalize=True)\n",
    "    \n",
    "    print(classification_report(texts['label'].values, texts['baseline'].values, target_names=sorted(classes.keys())))"
   ]
  },
  {
   "cell_type": "code",
   "execution_count": 65,
   "metadata": {},
   "outputs": [],
   "source": [
    "# Split the data into train and test sets (80% for training and 20% for testing)\n",
    "solar_train, solar_test = train_test_split(solar, test_size=0.2, random_state=42)\n",
    "ebikes_train, ebikes_test = train_test_split(ebikes, test_size=0.2, random_state=42)\n",
    "tesla_train, tesla_test = train_test_split(tesla, test_size=0.2, random_state=42)"
   ]
  },
  {
   "cell_type": "code",
   "execution_count": 66,
   "metadata": {},
   "outputs": [],
   "source": [
    "# Join the sets for train and test\n",
    "train = pd.concat([solar_train, ebikes_train, tesla_train]).reset_index(drop=True)\n",
    "test = pd.concat([solar_test, ebikes_test, tesla_test]).reset_index(drop=True)\n",
    "\n",
    "# Define the classes and their keywords\n",
    "classes = {'solar': ['panels', 'panel'], \n",
    "           'ebikes': ['ebike', 'ebikes', 'bike', 'bikes', 'e-bike', 'e-bikes', 'bicycle', 'bicycles', 'e-bicycle', 'e-bicycles'],  \n",
    "           'tesla': ['tesla', 'model', 'elon', 'musk']}"
   ]
  },
  {
   "cell_type": "code",
   "execution_count": 67,
   "metadata": {},
   "outputs": [
    {
     "name": "stdout",
     "output_type": "stream",
     "text": [
      "              precision    recall  f1-score   support\n",
      "\n",
      "      ebikes       1.00      0.33      0.50         3\n",
      "       solar       0.50      1.00      0.67         2\n",
      "       tesla       1.00      1.00      1.00         3\n",
      "\n",
      "    accuracy                           0.75         8\n",
      "   macro avg       0.83      0.78      0.72         8\n",
      "weighted avg       0.88      0.75      0.73         8\n",
      "\n"
     ]
    }
   ],
   "source": [
    "# Trying to classify some dummy texts with the baseline approach\n",
    "dummy_texts = pd.DataFrame({\n",
    "    'content': ['I like solar panels', 'A friend of mine just bought a really expensive e-bike', 'I like e-bicycles but I like solar panels too, because with a solar panel I can recharge all my electric gadgets.', 'I want to be self-sufficient and respect the environment.', 'My two-wheels is so cool!', 'Elon Musk is the best', 'I want to buy a Tesla', 'I tried the Model 3 and it was amazing'], \n",
    "    'label': ['solar', 'ebikes', 'ebikes', 'solar', 'ebikes', 'tesla', 'tesla', 'tesla']})\n",
    "classify_texts_and_evaluate(dummy_texts, classes)"
   ]
  },
  {
   "cell_type": "code",
   "execution_count": 68,
   "metadata": {},
   "outputs": [
    {
     "name": "stdout",
     "output_type": "stream",
     "text": [
      "              precision    recall  f1-score   support\n",
      "\n",
      "      ebikes       1.00      1.00      1.00       207\n",
      "       solar       0.93      0.56      0.70       207\n",
      "       tesla       0.69      0.96      0.80       207\n",
      "\n",
      "    accuracy                           0.84       621\n",
      "   macro avg       0.87      0.84      0.83       621\n",
      "weighted avg       0.87      0.84      0.83       621\n",
      "\n"
     ]
    }
   ],
   "source": [
    "# Now let's try with the real test set\n",
    "classify_texts_and_evaluate(test, classes)"
   ]
  },
  {
   "cell_type": "code",
   "execution_count": 69,
   "metadata": {},
   "outputs": [
    {
     "data": {
      "text/html": [
       "<div>\n",
       "<style scoped>\n",
       "    .dataframe tbody tr th:only-of-type {\n",
       "        vertical-align: middle;\n",
       "    }\n",
       "\n",
       "    .dataframe tbody tr th {\n",
       "        vertical-align: top;\n",
       "    }\n",
       "\n",
       "    .dataframe thead th {\n",
       "        text-align: right;\n",
       "    }\n",
       "</style>\n",
       "<table border=\"1\" class=\"dataframe\">\n",
       "  <thead>\n",
       "    <tr style=\"text-align: right;\">\n",
       "      <th></th>\n",
       "      <th>date</th>\n",
       "      <th>content</th>\n",
       "      <th>label</th>\n",
       "      <th>baseline</th>\n",
       "    </tr>\n",
       "  </thead>\n",
       "  <tbody>\n",
       "    <tr>\n",
       "      <th>0</th>\n",
       "      <td>2022/11/21</td>\n",
       "      <td>Quaise Energy is on a mission to prove that de...</td>\n",
       "      <td>solar</td>\n",
       "      <td>tesla</td>\n",
       "    </tr>\n",
       "    <tr>\n",
       "      <th>1</th>\n",
       "      <td>2022/12/29</td>\n",
       "      <td>The world’s first floating offshore wind farm,...</td>\n",
       "      <td>solar</td>\n",
       "      <td>tesla</td>\n",
       "    </tr>\n",
       "    <tr>\n",
       "      <th>4</th>\n",
       "      <td>2023/03/16</td>\n",
       "      <td>Tesla is launching a new feature to help homeo...</td>\n",
       "      <td>solar</td>\n",
       "      <td>tesla</td>\n",
       "    </tr>\n",
       "    <tr>\n",
       "      <th>5</th>\n",
       "      <td>2023/03/16</td>\n",
       "      <td>Tesla is launching a new feature to help homeo...</td>\n",
       "      <td>solar</td>\n",
       "      <td>tesla</td>\n",
       "    </tr>\n",
       "    <tr>\n",
       "      <th>6</th>\n",
       "      <td>2022/01/19</td>\n",
       "      <td>The US Department of Interior’s Bureau of Ocea...</td>\n",
       "      <td>solar</td>\n",
       "      <td>tesla</td>\n",
       "    </tr>\n",
       "    <tr>\n",
       "      <th>...</th>\n",
       "      <td>...</td>\n",
       "      <td>...</td>\n",
       "      <td>...</td>\n",
       "      <td>...</td>\n",
       "    </tr>\n",
       "    <tr>\n",
       "      <th>490</th>\n",
       "      <td>2023/03/23</td>\n",
       "      <td>Lucid Motors is in the process of delivering a...</td>\n",
       "      <td>tesla</td>\n",
       "      <td>solar</td>\n",
       "    </tr>\n",
       "    <tr>\n",
       "      <th>499</th>\n",
       "      <td>2023/03/23</td>\n",
       "      <td>Lucid Motors is in the process of delivering a...</td>\n",
       "      <td>tesla</td>\n",
       "      <td>solar</td>\n",
       "    </tr>\n",
       "    <tr>\n",
       "      <th>546</th>\n",
       "      <td>2023/03/23</td>\n",
       "      <td>Lucid Motors is in the process of delivering a...</td>\n",
       "      <td>tesla</td>\n",
       "      <td>solar</td>\n",
       "    </tr>\n",
       "    <tr>\n",
       "      <th>582</th>\n",
       "      <td>2023/03/23</td>\n",
       "      <td>Lucid Motors is in the process of delivering a...</td>\n",
       "      <td>tesla</td>\n",
       "      <td>solar</td>\n",
       "    </tr>\n",
       "    <tr>\n",
       "      <th>593</th>\n",
       "      <td>2023/03/23</td>\n",
       "      <td>Lucid Motors is in the process of delivering a...</td>\n",
       "      <td>tesla</td>\n",
       "      <td>solar</td>\n",
       "    </tr>\n",
       "  </tbody>\n",
       "</table>\n",
       "<p>101 rows × 4 columns</p>\n",
       "</div>"
      ],
      "text/plain": [
       "           date                                            content  label  \\\n",
       "0    2022/11/21  Quaise Energy is on a mission to prove that de...  solar   \n",
       "1    2022/12/29  The world’s first floating offshore wind farm,...  solar   \n",
       "4    2023/03/16  Tesla is launching a new feature to help homeo...  solar   \n",
       "5    2023/03/16  Tesla is launching a new feature to help homeo...  solar   \n",
       "6    2022/01/19  The US Department of Interior’s Bureau of Ocea...  solar   \n",
       "..          ...                                                ...    ...   \n",
       "490  2023/03/23  Lucid Motors is in the process of delivering a...  tesla   \n",
       "499  2023/03/23  Lucid Motors is in the process of delivering a...  tesla   \n",
       "546  2023/03/23  Lucid Motors is in the process of delivering a...  tesla   \n",
       "582  2023/03/23  Lucid Motors is in the process of delivering a...  tesla   \n",
       "593  2023/03/23  Lucid Motors is in the process of delivering a...  tesla   \n",
       "\n",
       "    baseline  \n",
       "0      tesla  \n",
       "1      tesla  \n",
       "4      tesla  \n",
       "5      tesla  \n",
       "6      tesla  \n",
       "..       ...  \n",
       "490    solar  \n",
       "499    solar  \n",
       "546    solar  \n",
       "582    solar  \n",
       "593    solar  \n",
       "\n",
       "[101 rows x 4 columns]"
      ]
     },
     "execution_count": 69,
     "metadata": {},
     "output_type": "execute_result"
    }
   ],
   "source": [
    "# Show the texts that were misclassified\n",
    "test.loc[test['baseline'] != test['label']]"
   ]
  }
 ],
 "metadata": {
  "kernelspec": {
   "display_name": "Python 3",
   "language": "python",
   "name": "python3"
  },
  "language_info": {
   "codemirror_mode": {
    "name": "ipython",
    "version": 3
   },
   "file_extension": ".py",
   "mimetype": "text/x-python",
   "name": "python",
   "nbconvert_exporter": "python",
   "pygments_lexer": "ipython3",
   "version": "3.10.9"
  },
  "orig_nbformat": 4,
  "vscode": {
   "interpreter": {
    "hash": "63cdcf18c432d43982e1659b8a2747c6e96e77ba04b741c7eb9a7715fa966310"
   }
  }
 },
 "nbformat": 4,
 "nbformat_minor": 2
}
